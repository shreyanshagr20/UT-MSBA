{
 "cells": [
  {
   "cell_type": "markdown",
   "metadata": {
    "id": "voAS4e-XbWaH"
   },
   "source": [
    "# Assignment - 1 (65 pts)\n",
    "\n",
    "### Due: 11:59 PM CT, September 7 \n",
    "### Team members:\n",
    "\n",
    "Manvi Goyal: mg65952\n",
    "\n",
    "Shreyansh Agrawal: sa55742\n",
    "\n",
    "---\n",
    "\n"
   ]
  },
  {
   "cell_type": "markdown",
   "metadata": {
    "id": "Rh_WVVdznfMN"
   },
   "source": [
    "# Question 1: Adoption of AI/ML (5 pts)\n",
    "\n",
    "Read the HBR article on barriers to adoption of AI/ML based solutions in the healthcare industry, which is posted as the first document in Canvas under Modules --> Resources.\n",
    "\n",
    "Write a paragraph in your own words summarizing what you feel were the key factors that contributed to the lack of trust (and hence adoption) of the AI/ML solutions discussed. "
   ]
  },
  {
   "cell_type": "markdown",
   "metadata": {},
   "source": [
    "**Problem**: The major roadblock in acceptance of AI/ML based solutions in healthcare industry is that people view themselves and their medical needs as unique. The general perception is that AI does not take into account people's unique characteristics and treat all the individuals same, thereby, providing services that are standardized which makes them more resistant. Hence, as per them AI services are useful only to treat an average patient or medical needs that are standardized, not for services that require personalization. \n",
    "\n",
    "**Result/Consequences**: People prefer human doctor rather than AI services even if that means paying high fees or greater risk of an inaccurate diagnosis or a surgical complication.\n",
    "\n",
    "**Solutions proposed**: To overcome the patients' resistance, providers needs to make patients feel that the service AI provides is personalized, it takes into account the unique characteristics similar to a physical doctor. Also, during initial phases physicians can confirm the recommendation provided by AI, to built trust among patients.\n",
    "\n",
    "---\n"
   ]
  },
  {
   "cell_type": "markdown",
   "metadata": {
    "id": "IkVxrWs0o0tn"
   },
   "source": [
    "\n",
    "# Question 2: Google Flu Trends (8 pts)\n",
    "\n",
    "The second article posted  in Canvas under Modules --> Resources, (google flu) describes a high-profile (and embarrassingly  failed)  project done by google, highlighting the phenomena of data drift and the importance of continually monitoring/updating models post deployment.\n",
    "\n",
    "Read this article and then briefly describe \n",
    "\n",
    "(i) three important causes of \"data drift\" in the flu prediction problem that are mentioned in the article, and\n",
    "\n",
    "(ii) one important aspect of the original google model design that made it very prone to overfitting (and hence poor generalization on future data).\n"
   ]
  },
  {
   "cell_type": "markdown",
   "metadata": {},
   "source": [
    "**Ans**\n",
    "(i) The 3 most important causes of \"data drift\" are as follows:\n",
    "\n",
    "* Marriage of big and small data. It is observed that the big data research and more traditional applied statistics live in two different realms and do not work collaboratively. Hence, huge unnecessary correlations caused by big data ultimately leads to overfitting which can be countered by traditional methods. Big data also overlooks the patterns in error or considerable information that could be extracted by traditional statistical methods. Big Data sgould not mean that you can ignore foundational issues of measurement and construct validity and reliability and dependencies among data. Hence, model doesn't perform well on test data\n",
    "\n",
    "* In order to improve its service, the data-generating process/algorithms that are used to extract the search terms or data keeps on changing very frequently. Due to these changes, its tough to keep track of the underlying trends.\n",
    "\n",
    "* Due to data privacy issues, there is no transparency as the data cannnot be made public. Hence, one can also try replicating the model, again which is not accurate as the supporting papers do not meet all the standards, so correctness of the model can be accurately justified. Moreover, the source of the data cannot be verified as highlighted by Media Stoked Panic which highlights the question if our source is reliable or not. This again can result in data drift.\n",
    "\n",
    "(ii) The issue with GFT model was that they were weeding out the seasonal search terms that were unrelated to the flu but strongly correlated to the CDC data. Hence, they were trying to convert the big amount of data into smaller data points. This ultimately led to overfitting of the data as it makes model prone to unnecessary correlations where the big data were overfitting the small number of cases—a standard concern in data analysis.\n",
    "\n",
    "---"
   ]
  },
  {
   "cell_type": "markdown",
   "metadata": {
    "id": "hpTvwLiHVmfo"
   },
   "source": [
    "# Question 3: Maximum Likelihood Estimate (12 pts)\n",
    "\n",
    "100 students in the MSBA Program were asked if they wanted to buy the Big Ticket for the season. They reported their preferences by entering No or Yes in the survey. We use 0 to represent their disinterest in buying the Big Ticket and 1 to represent their interest. A random sample of 30 students yielded the following preferences:\n",
    "\n",
    "$$0 0 1 1 0 1 0 1 1 1 0 1 1 0 1 0 0 1 1 1 0 0 1 1 0 1 1 0 0 1$$\n",
    "\n",
    "These choices are assumed to arise by independent and identically distributed (i.i.d.) sampling from the following distribution and if the unknown parameter $q$ can be estimated, then we can provide more insights about the students' preference.\n",
    "\n",
    "$$\n",
    "\\begin{equation}\n",
    "\\nonumber P(x) = \\left\\{\n",
    "\\begin{array}{l l}\n",
    "    q& \\quad \\text{for  } x=0\\\\\n",
    "1-q & \\quad \\text{for } x=1\n",
    "\\end{array} \\right.\n",
    "\\end{equation}\n",
    "$$\n",
    "\n",
    "\n",
    "1. Based on the definitions given above, write down the likelihood function (3 pts)\n",
    "2. Derive the **maximum likelihood estimator** of $q$ (Algenric expression in terms of variables) (3 pts)\n",
    "3. Using the given sample, find a maximum likelihood estimate of $q$ as well (numerical value) (3 pts)\n",
    "4. Show that the maximum likelihood estimate is unbiased (3 pts)\n",
    "\n",
    "Note: For this question, you can either upload a scanned copy of the handwritten solution or write the answer in LaTex/Markdown.\n"
   ]
  },
  {
   "cell_type": "markdown",
   "metadata": {},
   "source": [
    "**Ans: Separate PDF File named Q3 is uploaded along with this file on canvas**"
   ]
  },
  {
   "cell_type": "markdown",
   "metadata": {
    "id": "nTWFVcvwXP4w"
   },
   "source": [
    "# Question 4: Linear Regression (10 pts)\n",
    "\n",
    "1. What is the difference between R-square and adjusted R square and why is it desirable to use the adjusted value? (4 pts)\n",
    "\n",
    "2. Overfitting usually happens in complex models. Linear Regression is a fairly simple model. Could overfitting happen in Linear Regression? If so, please explain the scenario in which it could happen and how we can tackle it. (6 pts)\n"
   ]
  },
  {
   "cell_type": "markdown",
   "metadata": {},
   "source": [
    "**Q4 | Ans 1:**\n",
    "\n",
    "R squared the ratio of variance explained by the fitted model to the total variance. So if we say Total Variance = Variance explained by model + Unexplained Variance.\n",
    "\n",
    "R squared = (Total Variance - Unexplained Variance)/ Total Variance = 1 - Unexplained Variance/ Total Variance\n",
    "Note that this formula does not account formula does not account for the number of observations or features.\n",
    "R squared always increases as we add more and more features to the model irrespective of the fact that they might be related to our target variable or not. So in a way, just looking at R Squared value would be fallacious because we might be picking a model with features that have nothing to do with our target variable.\n",
    "\n",
    "Now, the idea behind adjusted R Squared is that it penalizes the R Squared for the number of features. Formula for Adjusted R squared is\n",
    "\n",
    "Adjusted R squared = 1 - (1-R Squared)*(n-1)/(n-p-1)\n",
    "\n",
    "From the formula, we can see that the value of adjusted R Squared will only increase if the value of R Squared increases considerably upon adding more features. For example, if the R Squared value increases only by a small amount after adding \"k\" new features, the value of 1- Squared won't change much but the denominator would decrease considerably (depending on k) reducing the Adjusted R Squared.\n",
    "\n",
    "Hence, Adjusted R squared is desirable because it help us avoid the problem that we face with R Squared (mentioned above) and gives us a more reliable interpretation of our model."
   ]
  },
  {
   "cell_type": "markdown",
   "metadata": {},
   "source": [
    "**Q4 | Ans 2:**\n",
    "\n",
    "Yes, overfitting can happen in linear regression. Suppose we have added features to the model that are not related to our target variable, then the model will try to fit the noise associated with those variables as well and hence although the model might have a low error in train data, it will perform poorly when deployed since it's based on the features that are not related to the model. Few scenarios in which overfitting can happen is:\n",
    "* If you add features that are not related to the model\n",
    "\t* Explained above\n",
    "* If the number of features (p) is more or comparable to the number of observations (n)\n",
    "\t* In such case, the model will fir every data point perfectly and the resulting  model won't be generalized and will be overfit.\n",
    "\t\n",
    "We can tackle overfitting in linear regression by reducing the variance of our model. \n",
    "* This can be achieved by either shrinking the coefficients or equating few coefficients to zero through regularization i.e. lasso, ridge or elastic net. Such methods will try to shrink the coefficients to zero, resulting in models with lower variance and hopefully a more generalized model.\n",
    "* We can also try best subset selection which will select the best n features (n depends on us and we can get this value through cross validation.) However, best subset selection is computationally expensive and hence is not a recommended solution.\n",
    "* Also, we can do forward or backward selection (forward is more preferable to reduce overfitting) to jus tbuild a model with just n features\n",
    "* Apart from this, one should understand qualitatively as to which features are potentially related to target variable and just use those features.\n",
    "\n",
    "---\n"
   ]
  },
  {
   "cell_type": "markdown",
   "metadata": {
    "id": "rTCBgfLxeIi5"
   },
   "source": [
    "# Question 5: Ridge/ Lasso Regression (30 pts)\n",
    "\n",
    "Use the following code to import the California housing prices dataset and linear models in python. The dataset is taken from https://www.kaggle.com/camnugent/california-housing-prices/version/1. We have removed the categorical variables and rows with missing variables to make it easier to run the models."
   ]
  },
  {
   "cell_type": "markdown",
   "metadata": {
    "id": "naMH3EMCm1cA"
   },
   "source": [
    "The data pertains to the houses found in a given California district and some summary stats about them based on the 1990 census data. The columns are as follows:\n",
    "\n",
    "longitude\n",
    "\n",
    "latitude\n",
    "\n",
    "housingmedianage\n",
    "\n",
    "total_rooms\n",
    "\n",
    "total_bedrooms\n",
    "\n",
    "population\n",
    "\n",
    "households\n",
    "\n",
    "median_income\n",
    "\n",
    "medianhousevalue\n",
    "\n",
    "ocean_proximity (this feature has been removed from the csv file since it is an ordinal variable)"
   ]
  },
  {
   "cell_type": "code",
   "execution_count": 62,
   "metadata": {
    "id": "Qhv7UoyilbDV"
   },
   "outputs": [],
   "source": [
    "from sklearn import linear_model\n",
    "from sklearn.metrics import mean_absolute_error\n",
    "import numpy as np\n",
    "import pandas as pd\n",
    "from sklearn.metrics import mean_absolute_error, mean_squared_error\n",
    "import random\n",
    "from sklearn import linear_model\n",
    "pd.options.mode.chained_assignment = None\n",
    "\n",
    "\n",
    "df = pd.read_csv(\"housing_data.csv\")\n",
    "X = df.drop(['median_house_value'],axis=1)\n",
    "Y = df['median_house_value']"
   ]
  },
  {
   "cell_type": "code",
   "execution_count": 63,
   "metadata": {
    "colab": {
     "base_uri": "https://localhost:8080/"
    },
    "id": "CTiUIITYezts",
    "outputId": "82a0383b-f064-44f1-9ab8-ed196cf9d44f"
   },
   "outputs": [
    {
     "data": {
      "text/plain": [
       "Index(['longitude', 'latitude', 'housing_median_age', 'total_rooms',\n",
       "       'total_bedrooms', 'population', 'households', 'median_income',\n",
       "       'median_house_value'],\n",
       "      dtype='object')"
      ]
     },
     "execution_count": 63,
     "metadata": {},
     "output_type": "execute_result"
    }
   ],
   "source": [
    "df.columns # Show you all the columns in this file"
   ]
  },
  {
   "cell_type": "code",
   "execution_count": 64,
   "metadata": {
    "colab": {
     "base_uri": "https://localhost:8080/",
     "height": 206
    },
    "id": "li4lFm55fEPg",
    "outputId": "7e8cdc45-720f-4a6f-84af-2992d62fe744"
   },
   "outputs": [
    {
     "data": {
      "text/html": [
       "<div>\n",
       "<style scoped>\n",
       "    .dataframe tbody tr th:only-of-type {\n",
       "        vertical-align: middle;\n",
       "    }\n",
       "\n",
       "    .dataframe tbody tr th {\n",
       "        vertical-align: top;\n",
       "    }\n",
       "\n",
       "    .dataframe thead th {\n",
       "        text-align: right;\n",
       "    }\n",
       "</style>\n",
       "<table border=\"1\" class=\"dataframe\">\n",
       "  <thead>\n",
       "    <tr style=\"text-align: right;\">\n",
       "      <th></th>\n",
       "      <th>longitude</th>\n",
       "      <th>latitude</th>\n",
       "      <th>housing_median_age</th>\n",
       "      <th>total_rooms</th>\n",
       "      <th>total_bedrooms</th>\n",
       "      <th>population</th>\n",
       "      <th>households</th>\n",
       "      <th>median_income</th>\n",
       "      <th>median_house_value</th>\n",
       "    </tr>\n",
       "  </thead>\n",
       "  <tbody>\n",
       "    <tr>\n",
       "      <th>0</th>\n",
       "      <td>-122.23</td>\n",
       "      <td>37.88</td>\n",
       "      <td>41.0</td>\n",
       "      <td>880.0</td>\n",
       "      <td>129.0</td>\n",
       "      <td>322.0</td>\n",
       "      <td>126.0</td>\n",
       "      <td>8.3252</td>\n",
       "      <td>452600.0</td>\n",
       "    </tr>\n",
       "    <tr>\n",
       "      <th>1</th>\n",
       "      <td>-122.22</td>\n",
       "      <td>37.86</td>\n",
       "      <td>21.0</td>\n",
       "      <td>7099.0</td>\n",
       "      <td>1106.0</td>\n",
       "      <td>2401.0</td>\n",
       "      <td>1138.0</td>\n",
       "      <td>8.3014</td>\n",
       "      <td>358500.0</td>\n",
       "    </tr>\n",
       "    <tr>\n",
       "      <th>2</th>\n",
       "      <td>-122.24</td>\n",
       "      <td>37.85</td>\n",
       "      <td>52.0</td>\n",
       "      <td>1467.0</td>\n",
       "      <td>190.0</td>\n",
       "      <td>496.0</td>\n",
       "      <td>177.0</td>\n",
       "      <td>7.2574</td>\n",
       "      <td>352100.0</td>\n",
       "    </tr>\n",
       "    <tr>\n",
       "      <th>3</th>\n",
       "      <td>-122.25</td>\n",
       "      <td>37.85</td>\n",
       "      <td>52.0</td>\n",
       "      <td>1274.0</td>\n",
       "      <td>235.0</td>\n",
       "      <td>558.0</td>\n",
       "      <td>219.0</td>\n",
       "      <td>5.6431</td>\n",
       "      <td>341300.0</td>\n",
       "    </tr>\n",
       "    <tr>\n",
       "      <th>4</th>\n",
       "      <td>-122.25</td>\n",
       "      <td>37.85</td>\n",
       "      <td>52.0</td>\n",
       "      <td>1627.0</td>\n",
       "      <td>280.0</td>\n",
       "      <td>565.0</td>\n",
       "      <td>259.0</td>\n",
       "      <td>3.8462</td>\n",
       "      <td>342200.0</td>\n",
       "    </tr>\n",
       "  </tbody>\n",
       "</table>\n",
       "</div>"
      ],
      "text/plain": [
       "   longitude  latitude  housing_median_age  total_rooms  total_bedrooms  \\\n",
       "0    -122.23     37.88                41.0        880.0           129.0   \n",
       "1    -122.22     37.86                21.0       7099.0          1106.0   \n",
       "2    -122.24     37.85                52.0       1467.0           190.0   \n",
       "3    -122.25     37.85                52.0       1274.0           235.0   \n",
       "4    -122.25     37.85                52.0       1627.0           280.0   \n",
       "\n",
       "   population  households  median_income  median_house_value  \n",
       "0       322.0       126.0         8.3252            452600.0  \n",
       "1      2401.0      1138.0         8.3014            358500.0  \n",
       "2       496.0       177.0         7.2574            352100.0  \n",
       "3       558.0       219.0         5.6431            341300.0  \n",
       "4       565.0       259.0         3.8462            342200.0  "
      ]
     },
     "execution_count": 64,
     "metadata": {},
     "output_type": "execute_result"
    }
   ],
   "source": [
    "df.head() # Show you the first 5 rows in this file"
   ]
  },
  {
   "cell_type": "markdown",
   "metadata": {},
   "source": [
    "1) Split the data into a training set (75% of data) and a test set (25% of data), using the train_test_split function with random_state = 50. Then scale the data (not including target) so that each of the independent variables would have zero mean and unit variance. You can use the sklearn.preprocessing.scale function for this. Print the first 5 rows of the training set after scaling. (2 pts) \n",
    "\n",
    "2) Use sklearn.linear_model.Lasso and sklearn.linear_model.Ridge classes to do a 5-fold cross validation using sklearn's KFold. For the sweep of the regularization parameter, we will look at a grid of values ranging from $α = 10^{10}$ to $α = 10^{−6}$.\n",
    "\n",
    "In Python, you can consider this range of values as follows: alpha = 10**numpy.linspace(6,-6,100) so that you can generate 100 uniform values between -6 to 6 as power series.\n",
    "\n",
    "Fit the 2 regression models with scaled data and report the best chosen α based on cross validation as well as the corresponding scoring metric. The cross validation should happen on your training data using MSE as the scoring metric. (5 pts) \n",
    "\n",
    "3) a) Run ridge and lasso regression for all of the α specified above (on training data), and plot the coefficients learned for each of them - there should be one plot each for lasso and ridge, so a total of two plots; different features' weights of each model should be on the same plot with different colors (5 pts).\n",
    "\n",
    "  b) What do you qualitatively observe when the value of the regularization parameter changes? (2pts)\n",
    "\n",
    "4) a) Similarly, use sklearn.linear_model.ElasticNet to do linear regression with different α values, and plot the coefficients learned for each of them (2 pts).\n",
    "\n",
    "  b) Observe the plot, then explain the pros and cons of ridge, lasso and Elastic Net models. (3pts)\n",
    "\n",
    "5) Run the following three regression models with MSE loss on the training data (5 pts): \n",
    "\n",
    "a) linear regression without regularization (1pts)\n",
    "\n",
    "b) linear regression with ridge regularization (2pts)\n",
    "\n",
    "c) linear regression with lasso regularization (2pts)\n",
    "\n",
    "For part (b) and (c), use only the best regularization parameters. Report the MSE and R2 on the test data for each of the models.\n",
    "\n",
    "6) Train the 3 models and report metrics with the original data without scaling (3pts)\n",
    "\n",
    "7) Why did we have to scale the data in ridge and lasso regression? (3 pts)"
   ]
  },
  {
   "cell_type": "markdown",
   "metadata": {},
   "source": [
    "**Q5 | Part 1**"
   ]
  },
  {
   "cell_type": "code",
   "execution_count": 66,
   "metadata": {},
   "outputs": [
    {
     "data": {
      "text/html": [
       "<div>\n",
       "<style scoped>\n",
       "    .dataframe tbody tr th:only-of-type {\n",
       "        vertical-align: middle;\n",
       "    }\n",
       "\n",
       "    .dataframe tbody tr th {\n",
       "        vertical-align: top;\n",
       "    }\n",
       "\n",
       "    .dataframe thead th {\n",
       "        text-align: right;\n",
       "    }\n",
       "</style>\n",
       "<table border=\"1\" class=\"dataframe\">\n",
       "  <thead>\n",
       "    <tr style=\"text-align: right;\">\n",
       "      <th></th>\n",
       "      <th>longitude</th>\n",
       "      <th>latitude</th>\n",
       "      <th>housing_median_age</th>\n",
       "      <th>total_rooms</th>\n",
       "      <th>total_bedrooms</th>\n",
       "      <th>population</th>\n",
       "      <th>households</th>\n",
       "      <th>median_income</th>\n",
       "    </tr>\n",
       "  </thead>\n",
       "  <tbody>\n",
       "    <tr>\n",
       "      <th>0</th>\n",
       "      <td>-1.131137</td>\n",
       "      <td>1.910919</td>\n",
       "      <td>1.852903</td>\n",
       "      <td>-0.978590</td>\n",
       "      <td>-1.042943</td>\n",
       "      <td>-0.994072</td>\n",
       "      <td>-1.051209</td>\n",
       "      <td>-1.222289</td>\n",
       "    </tr>\n",
       "    <tr>\n",
       "      <th>1</th>\n",
       "      <td>-1.126150</td>\n",
       "      <td>0.766393</td>\n",
       "      <td>-0.926203</td>\n",
       "      <td>0.199464</td>\n",
       "      <td>0.168770</td>\n",
       "      <td>0.548454</td>\n",
       "      <td>0.278543</td>\n",
       "      <td>0.717610</td>\n",
       "    </tr>\n",
       "    <tr>\n",
       "      <th>2</th>\n",
       "      <td>0.708890</td>\n",
       "      <td>-0.700469</td>\n",
       "      <td>1.852903</td>\n",
       "      <td>-1.024236</td>\n",
       "      <td>-1.002233</td>\n",
       "      <td>-0.949205</td>\n",
       "      <td>-1.037964</td>\n",
       "      <td>-1.181624</td>\n",
       "    </tr>\n",
       "    <tr>\n",
       "      <th>3</th>\n",
       "      <td>-1.215908</td>\n",
       "      <td>0.621575</td>\n",
       "      <td>1.138276</td>\n",
       "      <td>-0.213200</td>\n",
       "      <td>-0.063515</td>\n",
       "      <td>-0.189159</td>\n",
       "      <td>-0.087006</td>\n",
       "      <td>-0.696874</td>\n",
       "    </tr>\n",
       "    <tr>\n",
       "      <th>4</th>\n",
       "      <td>0.863472</td>\n",
       "      <td>-0.709812</td>\n",
       "      <td>-0.290979</td>\n",
       "      <td>0.387584</td>\n",
       "      <td>0.072983</td>\n",
       "      <td>0.272074</td>\n",
       "      <td>0.103715</td>\n",
       "      <td>0.513388</td>\n",
       "    </tr>\n",
       "  </tbody>\n",
       "</table>\n",
       "</div>"
      ],
      "text/plain": [
       "   longitude  latitude  housing_median_age  total_rooms  total_bedrooms  \\\n",
       "0  -1.131137  1.910919            1.852903    -0.978590       -1.042943   \n",
       "1  -1.126150  0.766393           -0.926203     0.199464        0.168770   \n",
       "2   0.708890 -0.700469            1.852903    -1.024236       -1.002233   \n",
       "3  -1.215908  0.621575            1.138276    -0.213200       -0.063515   \n",
       "4   0.863472 -0.709812           -0.290979     0.387584        0.072983   \n",
       "\n",
       "   population  households  median_income  \n",
       "0   -0.994072   -1.051209      -1.222289  \n",
       "1    0.548454    0.278543       0.717610  \n",
       "2   -0.949205   -1.037964      -1.181624  \n",
       "3   -0.189159   -0.087006      -0.696874  \n",
       "4    0.272074    0.103715       0.513388  "
      ]
     },
     "execution_count": 66,
     "metadata": {},
     "output_type": "execute_result"
    }
   ],
   "source": [
    "#part 1\n",
    "\n",
    "#dividing the dataset into train and test sets\n",
    "from sklearn.model_selection import train_test_split\n",
    "X_train, X_test, Y_train, Y_test = train_test_split(X, Y, test_size=0.25, random_state=50)\n",
    "\n",
    "#scaling the data for it to have mean 0 and variance 1\n",
    "from sklearn import preprocessing\n",
    "from sklearn.preprocessing import StandardScaler\n",
    "scaler = StandardScaler()\n",
    "X_train_scaled = scaler.fit_transform(X_train)\n",
    "X_test_scaled = scaler.transform(X_test)\n",
    "\n",
    "#renaming the columns back to original names as we no longer have the column names associated with the data after scalin # You can convert your data back to a dataframe after scaling\n",
    "X_train_scaled = pd.DataFrame(X_train_scaled, columns=X_train.columns)\n",
    "X_test_scaled = pd.DataFrame(X_test_scaled, columns=X_test.columns)\n",
    "\n",
    "#printing first 5 rows of scaled train data\n",
    "X_train_scaled.head()"
   ]
  },
  {
   "cell_type": "markdown",
   "metadata": {},
   "source": [
    "**Q5 | Part 2**"
   ]
  },
  {
   "cell_type": "code",
   "execution_count": 67,
   "metadata": {},
   "outputs": [
    {
     "name": "stdout",
     "output_type": "stream",
     "text": [
      "The best value of alpha for ridge is: 12.9155 and corresponding mse_ridge is: 4855822665.35\n",
      "The best value of alpha for lasso is: 57.2237 and corresponding mse_lasso is: 4855915820.55\n"
     ]
    }
   ],
   "source": [
    "#part2\n",
    "\n",
    "from sklearn.linear_model import Lasso, Ridge\n",
    "from sklearn.metrics import mean_squared_error\n",
    "from sklearn.model_selection import KFold\n",
    "\n",
    "#assigning alpha and cross-validation parameters\n",
    "#we are considering 100 values of alpha \n",
    "\n",
    "alpha = 10**np.linspace(-6,10,100) \n",
    "\n",
    "#defining kfold\n",
    "kf = KFold(n_splits=5,shuffle=True,random_state=2000)\n",
    "\n",
    "#creatinf list to store the mse for ridge and lasso\n",
    "mse_lasso=[]\n",
    "mse_ridge=[]\n",
    "\n",
    "#ridge regression: cross validation using 5 folds to find best alpha\n",
    "for a in alpha:\n",
    "    ridge = Ridge(alpha = a)\n",
    "    mse_temp=[]\n",
    "    \n",
    "    for train_index, test_index in kf.split(X_train_scaled):\n",
    "        X_traincv, X_testcv = X_train_scaled.iloc[train_index], X_train_scaled.iloc[test_index]\n",
    "        Y_traincv, Y_testcv = Y_train.iloc[train_index], Y_train.iloc[test_index]\n",
    "        ridge_fit = ridge.fit(X_traincv, Y_traincv)\n",
    "        Y_pred = ridge_fit.predict(X_testcv)\n",
    "        mse = mean_squared_error(Y_testcv, Y_pred)\n",
    "        mse_temp.append(mse)\n",
    "    \n",
    "    mse_ridge.append(np.mean(mse_temp))\n",
    "\n",
    "#best alpha for ridge based on cross validation and using MSE as the evaluation metric\n",
    "best_ridge = alpha[mse_ridge.index(min(mse_ridge))]\n",
    "min_mse_ridge= min(mse_ridge)\n",
    "print(\"The best value of alpha for ridge is: \"+ str(round(best_ridge,4)),\"and corresponding mse_ridge is: \"+ str (round(min_mse_ridge,2)) )\n",
    "\n",
    "#lasso regression: cross validation using 5 folds to find best alpha\n",
    "for a in alpha:\n",
    "    lasso = Lasso(alpha = a)\n",
    "    mse_temp=[]\n",
    "    \n",
    "    for train_index, test_index in kf.split(X_train_scaled):\n",
    "        X_traincv, X_testcv = X_train_scaled.iloc[train_index], X_train_scaled.iloc[test_index]\n",
    "        Y_traincv, Y_testcv = Y_train.iloc[train_index], Y_train.iloc[test_index]\n",
    "        lasso_fit = lasso.fit(X_traincv, Y_traincv)\n",
    "        Y_pred = lasso_fit.predict(X_testcv)\n",
    "        mse = mean_squared_error(Y_testcv, Y_pred)\n",
    "        mse_temp.append(mse)\n",
    "    \n",
    "    mse_lasso.append(np.mean(mse_temp))\n",
    "\n",
    "#best alpha for lasso based on cross validation \n",
    "best_lasso = alpha[mse_lasso.index(min(mse_lasso))]\n",
    "min_mse_lasso= min(mse_lasso)\n",
    "print(\"The best value of alpha for lasso is: \"+ str(round(best_lasso,4)),\"and corresponding mse_lasso is: \"+str(round(min_mse_lasso,2)))"
   ]
  },
  {
   "cell_type": "markdown",
   "metadata": {},
   "source": [
    "**Q5 | Part 3(a)**"
   ]
  },
  {
   "cell_type": "code",
   "execution_count": 68,
   "metadata": {},
   "outputs": [],
   "source": [
    "# part 3(a)\n",
    "\n",
    "#running ridge regression on all the given values of alpha and finding related coefficients\n",
    "\n",
    "ridge_coef=[]\n",
    "for a in alpha:\n",
    "    ridge = Ridge(alpha = a)\n",
    "    ridge_fit = ridge.fit(X_train_scaled, Y_train)\n",
    "    #Y_pred = ridge_fit.predict(X_test_scaled)\n",
    "    coef_ridge = ridge.coef_\n",
    "    ridge_coef.append(coef_ridge)\n",
    "    \n",
    "#running lasso regression on all the given values of alpha and finding related coefficients\n",
    "\n",
    "lasso_coef=[]\n",
    "for a in alpha:\n",
    "    lasso = Lasso(alpha = a)\n",
    "    lasso_fit = lasso.fit(X_train_scaled, Y_train)\n",
    "    #Y_pred = lasso_fit.predict(X_test_scaled)\n",
    "    coef_lasso = lasso.coef_\n",
    "    lasso_coef.append(coef_lasso)"
   ]
  },
  {
   "cell_type": "code",
   "execution_count": 69,
   "metadata": {},
   "outputs": [
    {
     "data": {
      "image/png": "[encoded data removed]",
      "text/plain": [
       "<Figure size 432x288 with 1 Axes>"
      ]
     },
     "metadata": {
      "needs_background": "light"
     },
     "output_type": "display_data"
    },
    {
     "data": {
      "image/png": "[encoded data removed]",
      "text/plain": [
       "<Figure size 432x288 with 1 Axes>"
      ]
     },
     "metadata": {
      "needs_background": "light"
     },
     "output_type": "display_data"
    }
   ],
   "source": [
    "#importing the library \n",
    "import matplotlib.pyplot as plt\n",
    "\n",
    "#plotting the curve between alpha and coefficients for ridge\n",
    "ax = plt.gca()\n",
    "ax.plot(alpha, ridge_coef)\n",
    "ax.set_xscale(\"log\")\n",
    "plt.xlabel(\"alpha\")\n",
    "plt.ylabel(\"coefficient weights\")\n",
    "plt.title(\"Ridge coefficients as a function of the regularization\")\n",
    "plt.axis(\"tight\")\n",
    "plt.show()\n",
    "\n",
    "#plotting the curve between alpha and coefficients for lasso\n",
    "ax = plt.gca()\n",
    "ax.plot(alpha, lasso_coef)\n",
    "ax.set_xscale(\"log\")\n",
    "plt.xlabel(\"alpha\")\n",
    "plt.ylabel(\"coefficient weights\")\n",
    "plt.title(\"Lasso coefficients as a function of the regularization\")\n",
    "plt.axis(\"tight\")\n",
    "plt.show()\n"
   ]
  },
  {
   "cell_type": "markdown",
   "metadata": {},
   "source": [
    "**Q5 | Part 3(b):**\n",
    "\n",
    "From the above two graphs, we can see that as the value of regularization parameter increases, the value of coefficients reduces. This is because we are imposing more penalty to the cost function as regularization parameter increases.\n",
    "\n",
    "For ridge, we can see that there is a smooth shrinkage of coefficients and the coefficients are shrinked close to zero (not exactly zero) for alpha values greater than 100,000.\n",
    "\n",
    "For lasso, we can see that the value of coefficients drop to zero abruptly as we increase the value of regularization parameters after a certain threshold (post alpha > 1000)"
   ]
  },
  {
   "cell_type": "markdown",
   "metadata": {},
   "source": [
    "**Q5 | Part 4(a):**"
   ]
  },
  {
   "cell_type": "code",
   "execution_count": 70,
   "metadata": {},
   "outputs": [
    {
     "data": {
      "image/png": "[encoded data removed]",
      "text/plain": [
       "<Figure size 432x288 with 1 Axes>"
      ]
     },
     "metadata": {
      "needs_background": "light"
     },
     "output_type": "display_data"
    }
   ],
   "source": [
    "#part 4(a)\n",
    "\n",
    "#creating elastic net model for the data\n",
    "from sklearn.linear_model import ElasticNet\n",
    "\n",
    "elastic_net_coef = []\n",
    "mse_elastic_net = []\n",
    "\n",
    "# here we are not performing cross-validation to get the best alpha\n",
    "# Also, we are using the default l1_ratio i.e. 0.5 which gives equal weightage to both l1 and l2 regularization.\n",
    "\n",
    "for a in alpha:\n",
    "    elastic_net = ElasticNet(alpha = a)\n",
    "    coef_temp=[]\n",
    "    elastic_net_fit = elastic_net.fit(X_train_scaled, Y_train)\n",
    "    Y_pred=elastic_net.predict(X_test_scaled)\n",
    "    mse = mean_squared_error(Y_test, Y_pred)\n",
    "    mse_elastic_net.append(mse)\n",
    "    coef = elastic_net.coef_\n",
    "    elastic_net_coef.append(coef)\n",
    "\n",
    "#plotting the curve between alpha and coefficients for lasso\n",
    "ax = plt.gca()\n",
    "ax.plot(alpha, elastic_net_coef)\n",
    "ax.set_xscale(\"log\")\n",
    "plt.xlabel(\"alpha\")\n",
    "plt.ylabel(\"coefficient weights\")\n",
    "plt.title(\"Elastic Net coefficients as a function of the regularization\")\n",
    "plt.axis(\"tight\")\n",
    "plt.show()"
   ]
  },
  {
   "cell_type": "markdown",
   "metadata": {},
   "source": [
    "**Q5 | Part 4(b):**\n",
    "\n",
    "Using the given data and the coefficients plot, its difficult to draw any concrete advantage/ disadvantage of any one of the regularization methods because the best lambda estimates for lasso and ridge are not regularizing the model to a great extent and hence any one model is not showing any significant advantage over other. (Performance of OLS is more or less similar to lasso or ridge)\n",
    "\n",
    "However, we can draw the general pros/ cons of these three regularization methods\n",
    "\n",
    "Ridge | Pros\n",
    "* It reduces the variance of the model by shrinking the coefficients, but do not equate them to zero. So, in a way, it retains all the parameters\n",
    "* It is particularly useful when the number of coffecients are less and we don't necesarily want to loose the any coefficients.\n",
    "\n",
    "Ridge | Cons\n",
    "* In case of large number of coefficients, it still retains all the coefficients. So the model might have less variance, but it becomes difficult to interpret the model coefficients, especially the ones that have values very close to zero\n",
    "\n",
    "Lasso | Pros\n",
    "* It pushes the coefficients to zero (post a value of lambda) and hence, it can act as a feature selection\n",
    "* This becomes particularly useful when there are large number of features and we just want to select a few features\n",
    "* Also, since it pushes coefficients to zero, the result model interpretability also improves\n",
    "\n",
    "Lasso | Cons\n",
    "* Sometimes the lasso estimates are known to be unstable i.e if you take a slightly different training set, it might produce very different set of coefficients.\n",
    "* Lasso also struggles with correlated features as it tends to arbitrarily pick the one of the correlated features and pushes the remainder to zero and hence the model interpretability can suffer.\n",
    "\n",
    "Elastic Net | Pros\n",
    "* Its the best of both the worlds, i.e. it combines both l1 and l2 regularization.\n",
    "* Also, you can regulate the weightage of l1 and l2 regularization depending on the need\n",
    "\n",
    "Elastic Net | Cons\n",
    "* Since you have two hyperparameters, you need to tune both of them and it becomes relatively computationally expensive than ridge and lasso.\n",
    "    \n",
    "    "
   ]
  },
  {
   "cell_type": "markdown",
   "metadata": {},
   "source": [
    "**Q5 | Part 5**"
   ]
  },
  {
   "cell_type": "code",
   "execution_count": 71,
   "metadata": {},
   "outputs": [
    {
     "name": "stdout",
     "output_type": "stream",
     "text": [
      "The value of mse for linear regression is: 4861014374.69 and the r2 value is: 0.6385\n",
      "The value of mse for ridge regression is: 4862033426.61 and the r2 value is: 0.6384\n",
      "The value of mse for lasso regression is: 4861064406.49 and the r2 value is: 0.6385\n"
     ]
    }
   ],
   "source": [
    "# part 5(a)\n",
    "from sklearn.linear_model import LinearRegression\n",
    "from sklearn.metrics import r2_score\n",
    "\n",
    "#linear regression on scaled data\n",
    "linear_regression= LinearRegression()\n",
    "linear_fit= linear_regression.fit(X_train_scaled, Y_train)\n",
    "Y_pred_linear= linear_fit.predict(X_test_scaled)\n",
    "mse_linear= mean_squared_error(Y_test, Y_pred_linear)\n",
    "r_square_linear= r2_score(Y_test, Y_pred_linear)\n",
    "\n",
    "#print(\"Part 5\")\n",
    "\n",
    "print(\"The value of mse for linear regression is: \"+ str(round(mse_linear,2)),\"and the r2 value is: \"+str(round(r_square_linear,4)))\n",
    "\n",
    "# part 5(b)\n",
    "#ridge regression on scaled data and best alpha\n",
    "ridge= Ridge(alpha= best_ridge)\n",
    "ridge_fit= ridge.fit(X_train_scaled, Y_train)\n",
    "Y_pred_ridge= ridge_fit.predict(X_test_scaled)\n",
    "mse_ridge= mean_squared_error(Y_test, Y_pred_ridge)\n",
    "r_square_ridge= r2_score(Y_test, Y_pred_ridge)\n",
    "\n",
    "print(\"The value of mse for ridge regression is: \"+ str(round(mse_ridge,2)),\"and the r2 value is: \"+str(round(r_square_ridge,4)))\n",
    "\n",
    "# part 5(c)\n",
    "#lasso regression on scaled data and best alpha\n",
    "lasso= Lasso(alpha= best_lasso)\n",
    "lasso_fit= lasso.fit(X_train_scaled, Y_train)\n",
    "Y_pred_lasso= lasso_fit.predict(X_test_scaled)\n",
    "mse_lasso= mean_squared_error(Y_test, Y_pred_lasso)\n",
    "r_square_lasso= r2_score(Y_test, Y_pred_lasso)\n",
    "\n",
    "print(\"The value of mse for lasso regression is: \"+ str(round(mse_lasso,2)),\"and the r2 value is: \"+str(round(r_square_lasso,4)))\n"
   ]
  },
  {
   "cell_type": "markdown",
   "metadata": {},
   "source": [
    "**Q5 | Part 6**"
   ]
  },
  {
   "cell_type": "code",
   "execution_count": 75,
   "metadata": {},
   "outputs": [
    {
     "name": "stdout",
     "output_type": "stream",
     "text": [
      "The value of mse for linear regression is: 4861014374.69 and the r2 value is: 0.6385\n",
      "\n",
      "\n",
      "best regularization parameter for ridge on unscaled data is: 2.009\n",
      "The value of mse for ridge regression is: 4861041703.81 and the r2 value is: 0.6385\n",
      "\n",
      "\n",
      "best regularization parameter for lasso on unscaled data is: 4.229\n",
      "The value of mse for lasso regression is: 4861033700.69 and the r2 value is: 0.6385\n"
     ]
    }
   ],
   "source": [
    "#Part 6\n",
    "\n",
    "#linear regression on unscaled data\n",
    "linear_regression= LinearRegression()\n",
    "linear_fit= linear_regression.fit(X_train, Y_train)\n",
    "Y_pred_linear= linear_fit.predict(X_test)\n",
    "mse_linear= mean_squared_error(Y_test, Y_pred_linear)\n",
    "r_square_linear= r2_score(Y_test, Y_pred_linear)\n",
    "\n",
    "#print(\"Part 6\")\n",
    "print(\"The value of mse for linear regression is: \"+ str(round(mse_linear,2)),\"and the r2 value is: \"+str(round(r_square_linear,4)))\n",
    "\n",
    "kf = KFold(n_splits=5,shuffle=True,random_state=2000)\n",
    "mse_lasso=[]\n",
    "mse_ridge=[]\n",
    "\n",
    "#ridge regression: cross validation using 5 folds to find best alpha\n",
    "for a in alpha:\n",
    "    ridge = Ridge(alpha = a)\n",
    "    mse_temp=[]\n",
    "    \n",
    "    for train_index, test_index in kf.split(X_train):\n",
    "        X_traincv, X_testcv = X_train.iloc[train_index], X_train.iloc[test_index]\n",
    "        Y_traincv, Y_testcv = Y_train.iloc[train_index], Y_train.iloc[test_index]\n",
    "        ridge_fit = ridge.fit(X_traincv, Y_traincv)\n",
    "        Y_pred = ridge_fit.predict(X_testcv)\n",
    "        mse = mean_squared_error(Y_testcv, Y_pred)\n",
    "        mse_temp.append(mse)\n",
    "    \n",
    "    mse_ridge.append(np.mean(mse_temp))\n",
    "\n",
    "#best alpha for ridge based on cross validation and using MSE as the evaluation metric\n",
    "best_ridge = alpha[mse_ridge.index(min(mse_ridge))]\n",
    "\n",
    "print(\"\\n\")\n",
    "print(\"best regularization parameter for ridge on unscaled data is: \" + str(round(best_ridge,3)))\n",
    "\n",
    "# using the best aplha to fit the model on the train model\n",
    "ridge= Ridge(alpha= best_ridge)\n",
    "ridge_fit= ridge.fit(X_train, Y_train)\n",
    "Y_pred_ridge= ridge_fit.predict(X_test)\n",
    "mse_ridge= mean_squared_error(Y_test, Y_pred_ridge)\n",
    "r_square_ridge= r2_score(Y_test, Y_pred_ridge)\n",
    "print(\"The value of mse for ridge regression is: \"+ str(round(mse_ridge,2)),\"and the r2 value is: \"+str(round(r_square_ridge,4)))\n",
    "\n",
    "#lasso regression: cross validation using 5 folds to find best alpha\n",
    "for a in alpha:\n",
    "    lasso = Lasso(alpha = a)\n",
    "    mse_temp=[]\n",
    "    \n",
    "    for train_index, test_index in kf.split(X_train):\n",
    "        X_traincv, X_testcv = X_train.iloc[train_index], X_train.iloc[test_index]\n",
    "        Y_traincv, Y_testcv = Y_train.iloc[train_index], Y_train.iloc[test_index]\n",
    "        lasso_fit = lasso.fit(X_traincv, Y_traincv)\n",
    "        Y_pred = lasso_fit.predict(X_testcv)\n",
    "        mse = mean_squared_error(Y_testcv, Y_pred)\n",
    "        mse_temp.append(mse)\n",
    "    \n",
    "    mse_lasso.append(np.mean(mse_temp))\n",
    "\n",
    "#best alpha for lasso based on cross validation and using MSE as the evaluation metric\n",
    "best_lasso = alpha[mse_lasso.index(min(mse_lasso))]\n",
    "\n",
    "print(\"\\n\")\n",
    "print(\"best regularization parameter for lasso on unscaled data is: \" + str(round(best_lasso,3)))\n",
    "\n",
    "lasso= Lasso(alpha= best_lasso)\n",
    "lasso_fit= lasso.fit(X_train, Y_train)\n",
    "Y_pred_lasso= lasso_fit.predict(X_test)\n",
    "mse_lasso= mean_squared_error(Y_test, Y_pred_lasso)\n",
    "r_square_lasso= r2_score(Y_test, Y_pred_lasso)\n",
    "\n",
    "print(\"The value of mse for lasso regression is: \"+ str(round(mse_lasso,2)),\"and the r2 value is: \"+str(round(r_square_lasso,4)))"
   ]
  },
  {
   "cell_type": "markdown",
   "metadata": {},
   "source": [
    "**Q5 | Part 7:**\n",
    "\n",
    "In OLS, if we scale the features, (Beta)iXi remains the same i.e. it's scale invariant. However, in lasso and ridge, we have a penalty term that is directly proportional to sum of betas or beta squared respectively. Due to this, if let's say we multiply a feature by \"s\", then the (Beta) corrosponding to that feature will not necessarily go down by \"s\" to keep (Beta)iXi same. In a way, (Beta)iXi becomes dependent on the scale of features unlike OLS and hence, we should scale the features prior to fitting a Lasso or Ridge model as different scales can result into completely different models.\n",
    "Post standardization, all the features have same variance i.e. 1 and mean=0 and hence the resulting fit won't be dependent on the scale of the features.\n",
    "\n",
    " "
   ]
  }
 ],
 "metadata": {
  "colab": {
   "collapsed_sections": [],
   "name": "Advanced_ML_HW1.ipynb",
   "provenance": []
  },
  "kernelspec": {
   "display_name": "Python 3.10.4 ('ShreyanshConda')",
   "language": "python",
   "name": "python3"
  },
  "language_info": {
   "codemirror_mode": {
    "name": "ipython",
    "version": 3
   },
   "file_extension": ".py",
   "mimetype": "text/x-python",
   "name": "python",
   "nbconvert_exporter": "python",
   "pygments_lexer": "ipython3",
   "version": "3.10.4"
  },
  "vscode": {
   "interpreter": {
    "hash": "d02c4a08a73a4fbd702ec45bd3651da6e987cfb739a67e8c96925f5fc77108dd"
   }
  }
 },
 "nbformat": 4,
 "nbformat_minor": 1
}
