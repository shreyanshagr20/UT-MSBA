{
  "cells": [
    {
      "cell_type": "markdown",
      "metadata": {
        "id": "E82cARe_nGIE"
      },
      "source": [
        "# Optimization II | HW 1\n",
        "\n",
        "Shreyansh Agrawal: sa55742\n",
        "\n",
        "Rianna Patel: rnp599"
      ]
    },
    {
      "cell_type": "markdown",
      "metadata": {
        "id": "i3kIagd2nGIG"
      },
      "source": [
        "Importing relevant packages"
      ]
    },
    {
      "cell_type": "code",
      "execution_count": null,
      "metadata": {
        "id": "WJ0oSikkCagm"
      },
      "outputs": [],
      "source": [
        "import tensorflow as tf\n",
        "import numpy as np\n",
        "import matplotlib.pyplot as plt\n",
        "from numpy.random import seed\n",
        "import pandas as pd\n",
        "%matplotlib inline\n",
        "\n",
        "from google.colab import drive\n",
        "drive.mount('/content/drive')"
      ]
    },
    {
      "cell_type": "code",
      "source": [
        "tf.random.set_seed(20) #seeding to ensure reproducibility\n",
        "seed(20)"
      ],
      "metadata": {
        "id": "_HPAi4IONc5J"
      },
      "execution_count": null,
      "outputs": []
    },
    {
      "cell_type": "code",
      "source": [
        "from google.colab import drive # mounting drive for easy read-write\n",
        "drive.mount('/content/drive')"
      ],
      "metadata": {
        "colab": {
          "base_uri": "https://localhost:8080/"
        },
        "id": "Lg5DgVMWJzz5",
        "outputId": "45a24b43-65dc-4d1d-c429-4d045134fdbb"
      },
      "execution_count": null,
      "outputs": [
        {
          "output_type": "stream",
          "name": "stdout",
          "text": [
            "Mounted at /content/drive\n"
          ]
        }
      ]
    },
    {
      "cell_type": "markdown",
      "metadata": {
        "id": "C7BMrhbnnGII"
      },
      "source": [
        "Loading MNIST Dataset"
      ]
    },
    {
      "cell_type": "code",
      "execution_count": null,
      "metadata": {
        "id": "cC90Zc1JCag0"
      },
      "outputs": [],
      "source": [
        "mnist = tf.keras.datasets.mnist\n",
        "\n",
        "(x_train, y_train),(x_test, y_test) = mnist.load_data()\n",
        "x_train, x_test = x_train / 255.0, x_test / 255.0 # normalizing the pixel intensities\n",
        "\n",
        "ndata_train = x_train.shape[0]\n",
        "ndata_test = x_test.shape[0]\n",
        "\n",
        "x_train_plot = x_train\n",
        "x_test_plot = x_test"
      ]
    },
    {
      "cell_type": "markdown",
      "metadata": {
        "id": "ZgWVt_TZnGII"
      },
      "source": [
        "Plotting a sample image"
      ]
    },
    {
      "cell_type": "code",
      "execution_count": null,
      "metadata": {
        "id": "9aRe3jYdAL9y",
        "colab": {
          "base_uri": "https://localhost:8080/",
          "height": 248
        },
        "outputId": "98a2d1b1-fd2a-4c11-afe9-7b2690f8118f"
      },
      "outputs": [
        {
          "output_type": "display_data",
          "data": {
            "text/plain": [
              "<Figure size 432x288 with 1 Axes>"
            ],
            "image/png": "[encoded data removed]"
          },
          "metadata": {
            "needs_background": "light"
          }
        }
      ],
      "source": [
        "plt.pcolor( 1-x_train[811,::-1,:] , cmap = 'gray' );\n",
        "plt.axis('off');"
      ]
    },
    {
      "cell_type": "markdown",
      "metadata": {
        "id": "4538UhQ4nGIJ"
      },
      "source": [
        "Data processing on MNIST dataset to feed into our NN model"
      ]
    },
    {
      "cell_type": "code",
      "execution_count": null,
      "metadata": {
        "id": "WLk18_VGCag4"
      },
      "outputs": [],
      "source": [
        "x_train = x_train.reshape((ndata_train,28,28,1))\n",
        "x_test = x_test.reshape((ndata_test,28,28,1))\n",
        "\n",
        "xshape = x_train.shape[1:4]"
      ]
    },
    {
      "cell_type": "markdown",
      "metadata": {
        "id": "mXDZdWuinGIK"
      },
      "source": [
        "Definining NN Model"
      ]
    },
    {
      "cell_type": "code",
      "execution_count": null,
      "metadata": {
        "id": "rdfpHS5QCahV"
      },
      "outputs": [],
      "source": [
        "NNmodel2 = tf.keras.models.Sequential([\n",
        "        tf.keras.layers.Conv2D(filters=128,kernel_size=(5,5),activation=tf.nn.relu,input_shape=xshape),\n",
        "        tf.keras.layers.MaxPooling2D(pool_size = (2,2),strides=2),\n",
        "        tf.keras.layers.BatchNormalization(),\n",
        "\n",
        "        tf.keras.layers.Conv2D(filters=64,kernel_size=(5,5),activation=tf.nn.relu,input_shape=xshape),\n",
        "        tf.keras.layers.MaxPooling2D(pool_size = (2,2),strides=2),\n",
        "        tf.keras.layers.BatchNormalization(),\n",
        "\n",
        "        tf.keras.layers.Conv2D(filters=32,kernel_size=(3,3),activation=tf.nn.relu,input_shape=xshape),\n",
        "        tf.keras.layers.MaxPooling2D(pool_size = (2,2),strides=2),\n",
        "        tf.keras.layers.BatchNormalization(),\n",
        "\n",
        "        tf.keras.layers.Flatten(), # this layer is VERY important between conv and dense!\n",
        "        \n",
        "        tf.keras.layers.Dense(128,activation=tf.nn.relu,kernel_regularizer = tf.keras.regularizers.l1(0.0002)),\n",
        "        tf.keras.layers.Dense(64,activation=tf.nn.relu,kernel_regularizer = tf.keras.regularizers.l1(0.0002)),\n",
        "        tf.keras.layers.Dense(32,activation=tf.nn.softplus,kernel_regularizer = tf.keras.regularizers.l1(0.0002)),\n",
        "        tf.keras.layers.Dense(10,activation=tf.nn.softmax)\n",
        "        ])"
      ]
    },
    {
      "cell_type": "markdown",
      "metadata": {
        "id": "ZQ2yUvNUnGIK"
      },
      "source": [
        "Compiling Model"
      ]
    },
    {
      "cell_type": "code",
      "execution_count": null,
      "metadata": {
        "id": "caahsRsCCahX",
        "colab": {
          "base_uri": "https://localhost:8080/"
        },
        "outputId": "56b97339-9dba-4778-e65a-69565606898e"
      },
      "outputs": [
        {
          "output_type": "stream",
          "name": "stdout",
          "text": [
            "Model: \"sequential_3\"\n",
            "_________________________________________________________________\n",
            " Layer (type)                Output Shape              Param #   \n",
            "=================================================================\n",
            " conv2d_9 (Conv2D)           (None, 24, 24, 128)       3328      \n",
            "                                                                 \n",
            " max_pooling2d_9 (MaxPooling  (None, 12, 12, 128)      0         \n",
            " 2D)                                                             \n",
            "                                                                 \n",
            " batch_normalization_9 (Batc  (None, 12, 12, 128)      512       \n",
            " hNormalization)                                                 \n",
            "                                                                 \n",
            " conv2d_10 (Conv2D)          (None, 8, 8, 64)          204864    \n",
            "                                                                 \n",
            " max_pooling2d_10 (MaxPoolin  (None, 4, 4, 64)         0         \n",
            " g2D)                                                            \n",
            "                                                                 \n",
            " batch_normalization_10 (Bat  (None, 4, 4, 64)         256       \n",
            " chNormalization)                                                \n",
            "                                                                 \n",
            " conv2d_11 (Conv2D)          (None, 2, 2, 32)          18464     \n",
            "                                                                 \n",
            " max_pooling2d_11 (MaxPoolin  (None, 1, 1, 32)         0         \n",
            " g2D)                                                            \n",
            "                                                                 \n",
            " batch_normalization_11 (Bat  (None, 1, 1, 32)         128       \n",
            " chNormalization)                                                \n",
            "                                                                 \n",
            " flatten_3 (Flatten)         (None, 32)                0         \n",
            "                                                                 \n",
            " dense_12 (Dense)            (None, 128)               4224      \n",
            "                                                                 \n",
            " dense_13 (Dense)            (None, 64)                8256      \n",
            "                                                                 \n",
            " dense_14 (Dense)            (None, 32)                2080      \n",
            "                                                                 \n",
            " dense_15 (Dense)            (None, 10)                330       \n",
            "                                                                 \n",
            "=================================================================\n",
            "Total params: 242,442\n",
            "Trainable params: 241,994\n",
            "Non-trainable params: 448\n",
            "_________________________________________________________________\n"
          ]
        }
      ],
      "source": [
        "NNmodel2.compile(optimizer='adam',\n",
        "              loss='sparse_categorical_crossentropy',\n",
        "              metrics=['accuracy'])\n",
        "\n",
        "NNmodel2.summary()"
      ]
    },
    {
      "cell_type": "markdown",
      "metadata": {
        "id": "48AJLNkVnGIL"
      },
      "source": [
        "Tuning the model on 80% of the train data "
      ]
    },
    {
      "cell_type": "code",
      "source": [
        "EPOCHS = 35"
      ],
      "metadata": {
        "id": "lqpMOGYXHXOd"
      },
      "execution_count": null,
      "outputs": []
    },
    {
      "cell_type": "code",
      "execution_count": null,
      "metadata": {
        "id": "eVhxwOPGCahZ",
        "colab": {
          "base_uri": "https://localhost:8080/"
        },
        "outputId": "ed6ba537-fdc2-44f9-aba2-f7199f794371"
      },
      "outputs": [
        {
          "output_type": "stream",
          "name": "stdout",
          "text": [
            "Epoch 1/35\n",
            "96/96 [==============================] - 4s 29ms/step - loss: 0.7443 - accuracy: 0.8829 - val_loss: 2.6316 - val_accuracy: 0.1991\n",
            "Epoch 2/35\n",
            "96/96 [==============================] - 3s 27ms/step - loss: 0.2968 - accuracy: 0.9877 - val_loss: 3.5204 - val_accuracy: 0.1060\n",
            "Epoch 3/35\n",
            "96/96 [==============================] - 3s 31ms/step - loss: 0.2477 - accuracy: 0.9935 - val_loss: 2.5680 - val_accuracy: 0.1795\n",
            "Epoch 4/35\n",
            "96/96 [==============================] - 3s 34ms/step - loss: 0.2105 - accuracy: 0.9965 - val_loss: 1.4598 - val_accuracy: 0.5233\n",
            "Epoch 5/35\n",
            "96/96 [==============================] - 3s 31ms/step - loss: 0.1804 - accuracy: 0.9983 - val_loss: 0.4211 - val_accuracy: 0.9480\n",
            "Epoch 6/35\n",
            "96/96 [==============================] - 3s 27ms/step - loss: 0.1543 - accuracy: 0.9992 - val_loss: 0.2164 - val_accuracy: 0.9847\n",
            "Epoch 7/35\n",
            "96/96 [==============================] - 3s 28ms/step - loss: 0.1338 - accuracy: 0.9997 - val_loss: 0.1637 - val_accuracy: 0.9904\n",
            "Epoch 8/35\n",
            "96/96 [==============================] - 3s 26ms/step - loss: 0.1174 - accuracy: 1.0000 - val_loss: 0.1393 - val_accuracy: 0.9917\n",
            "Epoch 9/35\n",
            "96/96 [==============================] - 3s 27ms/step - loss: 0.1047 - accuracy: 1.0000 - val_loss: 0.1261 - val_accuracy: 0.9923\n",
            "Epoch 10/35\n",
            "96/96 [==============================] - 3s 27ms/step - loss: 0.0945 - accuracy: 1.0000 - val_loss: 0.1158 - val_accuracy: 0.9924\n",
            "Epoch 11/35\n",
            "96/96 [==============================] - 3s 28ms/step - loss: 0.0862 - accuracy: 1.0000 - val_loss: 0.1084 - val_accuracy: 0.9924\n",
            "Epoch 12/35\n",
            "96/96 [==============================] - 3s 29ms/step - loss: 0.0790 - accuracy: 1.0000 - val_loss: 0.1004 - val_accuracy: 0.9927\n",
            "Epoch 13/35\n",
            "96/96 [==============================] - 3s 28ms/step - loss: 0.0727 - accuracy: 1.0000 - val_loss: 0.0943 - val_accuracy: 0.9927\n",
            "Epoch 14/35\n",
            "96/96 [==============================] - 3s 26ms/step - loss: 0.0671 - accuracy: 1.0000 - val_loss: 0.0901 - val_accuracy: 0.9922\n",
            "Epoch 15/35\n",
            "96/96 [==============================] - 2s 26ms/step - loss: 0.0621 - accuracy: 1.0000 - val_loss: 0.0844 - val_accuracy: 0.9927\n",
            "Epoch 16/35\n",
            "96/96 [==============================] - 3s 26ms/step - loss: 0.0576 - accuracy: 1.0000 - val_loss: 0.0802 - val_accuracy: 0.9928\n",
            "Epoch 17/35\n",
            "96/96 [==============================] - 2s 26ms/step - loss: 0.0535 - accuracy: 1.0000 - val_loss: 0.0780 - val_accuracy: 0.9925\n",
            "Epoch 18/35\n",
            "96/96 [==============================] - 3s 26ms/step - loss: 0.0497 - accuracy: 1.0000 - val_loss: 0.0730 - val_accuracy: 0.9923\n",
            "Epoch 19/35\n",
            "96/96 [==============================] - 3s 27ms/step - loss: 0.0461 - accuracy: 1.0000 - val_loss: 0.0704 - val_accuracy: 0.9927\n",
            "Epoch 20/35\n",
            "96/96 [==============================] - 3s 27ms/step - loss: 0.0429 - accuracy: 1.0000 - val_loss: 0.0671 - val_accuracy: 0.9923\n",
            "Epoch 21/35\n",
            "96/96 [==============================] - 3s 27ms/step - loss: 0.0399 - accuracy: 1.0000 - val_loss: 0.0640 - val_accuracy: 0.9929\n",
            "Epoch 22/35\n",
            "96/96 [==============================] - 3s 27ms/step - loss: 0.0373 - accuracy: 1.0000 - val_loss: 0.0651 - val_accuracy: 0.9919\n",
            "Epoch 23/35\n",
            "96/96 [==============================] - 3s 27ms/step - loss: 0.0348 - accuracy: 1.0000 - val_loss: 0.0606 - val_accuracy: 0.9914\n",
            "Epoch 24/35\n",
            "96/96 [==============================] - 2s 26ms/step - loss: 0.0323 - accuracy: 1.0000 - val_loss: 0.0596 - val_accuracy: 0.9919\n",
            "Epoch 25/35\n",
            "96/96 [==============================] - 3s 27ms/step - loss: 0.0301 - accuracy: 1.0000 - val_loss: 0.0563 - val_accuracy: 0.9923\n",
            "Epoch 26/35\n",
            "96/96 [==============================] - 2s 26ms/step - loss: 0.0282 - accuracy: 1.0000 - val_loss: 0.0552 - val_accuracy: 0.9921\n",
            "Epoch 27/35\n",
            "96/96 [==============================] - 2s 26ms/step - loss: 0.0263 - accuracy: 1.0000 - val_loss: 0.0543 - val_accuracy: 0.9918\n",
            "Epoch 28/35\n",
            "96/96 [==============================] - 3s 27ms/step - loss: 0.0246 - accuracy: 1.0000 - val_loss: 0.0517 - val_accuracy: 0.9923\n",
            "Epoch 29/35\n",
            "96/96 [==============================] - 2s 26ms/step - loss: 0.0230 - accuracy: 1.0000 - val_loss: 0.0520 - val_accuracy: 0.9922\n",
            "Epoch 30/35\n",
            "96/96 [==============================] - 2s 26ms/step - loss: 0.0215 - accuracy: 1.0000 - val_loss: 0.0501 - val_accuracy: 0.9923\n",
            "Epoch 31/35\n",
            "96/96 [==============================] - 3s 26ms/step - loss: 0.0202 - accuracy: 1.0000 - val_loss: 0.0481 - val_accuracy: 0.9918\n",
            "Epoch 32/35\n",
            "96/96 [==============================] - 2s 26ms/step - loss: 0.0190 - accuracy: 1.0000 - val_loss: 0.0481 - val_accuracy: 0.9927\n",
            "Epoch 33/35\n",
            "96/96 [==============================] - 3s 27ms/step - loss: 0.0179 - accuracy: 1.0000 - val_loss: 0.0463 - val_accuracy: 0.9923\n",
            "Epoch 34/35\n",
            "96/96 [==============================] - 3s 28ms/step - loss: 0.0170 - accuracy: 1.0000 - val_loss: 0.0483 - val_accuracy: 0.9918\n",
            "Epoch 35/35\n",
            "96/96 [==============================] - 3s 27ms/step - loss: 0.0161 - accuracy: 1.0000 - val_loss: 0.0441 - val_accuracy: 0.9926\n"
          ]
        }
      ],
      "source": [
        "model_fit = NNmodel2.fit(x_train,y_train,epochs=EPOCHS,validation_split=0.2,batch_size=500)"
      ]
    },
    {
      "cell_type": "code",
      "source": [
        "#Visualizing the Learning Curves \n",
        "\n",
        "acc = model_fit.history['accuracy']\n",
        "val_acc = model_fit.history['val_accuracy']\n",
        "\n",
        "loss = model_fit.history['loss']\n",
        "val_loss = model_fit.history['val_loss']\n",
        "\n",
        "epochs_range = range(1,EPOCHS+1)\n",
        "\n",
        "plt.figure(figsize=(16, 8))\n",
        "plt.subplot(1, 2, 1)\n",
        "plt.plot(epochs_range, acc, label='Training Accuracy')\n",
        "plt.plot(epochs_range, val_acc, label='Validation Accuracy')\n",
        "plt.legend(loc='lower right')\n",
        "plt.title('Training and Validation Accuracy')\n",
        "\n",
        "plt.subplot(1, 2, 2)\n",
        "plt.plot(epochs_range, loss, label='Training Loss')\n",
        "plt.plot(epochs_range, val_loss, label='Validation Loss')\n",
        "plt.legend(loc='upper right')\n",
        "plt.title('Training and Validation Loss')\n",
        "plt.show()"
      ],
      "metadata": {
        "colab": {
          "base_uri": "https://localhost:8080/",
          "height": 499
        },
        "id": "mOmQb8YVGUN3",
        "outputId": "cedc5183-52e4-4d1d-f584-cdff12d9d1dc"
      },
      "execution_count": null,
      "outputs": [
        {
          "output_type": "display_data",
          "data": {
            "text/plain": [
              "<Figure size 1152x576 with 2 Axes>"
            ],
            "image/png": "[encoded data removed]"
          },
          "metadata": {
            "needs_background": "light"
          }
        }
      ]
    },
    {
      "cell_type": "code",
      "execution_count": null,
      "metadata": {
        "id": "YkdlAs_4CahZ",
        "colab": {
          "base_uri": "https://localhost:8080/"
        },
        "outputId": "bf5b4808-d183-49e6-bab8-8313caebbe75"
      },
      "outputs": [
        {
          "output_type": "stream",
          "name": "stdout",
          "text": [
            "313/313 [==============================] - 1s 2ms/step\n",
            "0.9914\n"
          ]
        }
      ],
      "source": [
        "pred_probs2 = NNmodel2.predict(x_test)\n",
        "pred2 = np.argmax(pred_probs2, axis=1)\n",
        "print(np.mean(pred2==y_test)) # acheived 99% accuracy with current confirguration"
      ]
    },
    {
      "cell_type": "markdown",
      "source": [
        "Retraining model on complete train dataset based on the parameters tuned before"
      ],
      "metadata": {
        "id": "t1bD4P-o69qI"
      }
    },
    {
      "cell_type": "code",
      "source": [
        "NNmodel2.fit(x_train,y_train,epochs=EPOCHS,validation_split=0,batch_size=500)"
      ],
      "metadata": {
        "colab": {
          "base_uri": "https://localhost:8080/"
        },
        "id": "MWeM72GA69Bm",
        "outputId": "a6e88ae0-59ec-45ff-a081-e08f4058f5a3"
      },
      "execution_count": null,
      "outputs": [
        {
          "output_type": "stream",
          "name": "stdout",
          "text": [
            "Epoch 1/35\n",
            "120/120 [==============================] - 3s 23ms/step - loss: 0.0730 - accuracy: 0.9838\n",
            "Epoch 2/35\n",
            "120/120 [==============================] - 3s 23ms/step - loss: 0.0384 - accuracy: 0.9940\n",
            "Epoch 3/35\n",
            "120/120 [==============================] - 3s 23ms/step - loss: 0.0284 - accuracy: 0.9971\n",
            "Epoch 4/35\n",
            "120/120 [==============================] - 3s 23ms/step - loss: 0.0232 - accuracy: 0.9984\n",
            "Epoch 5/35\n",
            "120/120 [==============================] - 3s 23ms/step - loss: 0.0198 - accuracy: 0.9995\n",
            "Epoch 6/35\n",
            "120/120 [==============================] - 3s 23ms/step - loss: 0.0175 - accuracy: 0.9998\n",
            "Epoch 7/35\n",
            "120/120 [==============================] - 3s 23ms/step - loss: 0.0164 - accuracy: 0.9999\n",
            "Epoch 8/35\n",
            "120/120 [==============================] - 3s 23ms/step - loss: 0.0158 - accuracy: 0.9999\n",
            "Epoch 9/35\n",
            "120/120 [==============================] - 3s 23ms/step - loss: 0.0152 - accuracy: 1.0000\n",
            "Epoch 10/35\n",
            "120/120 [==============================] - 3s 23ms/step - loss: 0.0148 - accuracy: 1.0000\n",
            "Epoch 11/35\n",
            "120/120 [==============================] - 3s 24ms/step - loss: 0.0144 - accuracy: 1.0000\n",
            "Epoch 12/35\n",
            "120/120 [==============================] - 3s 23ms/step - loss: 0.0141 - accuracy: 1.0000\n",
            "Epoch 13/35\n",
            "120/120 [==============================] - 3s 23ms/step - loss: 0.0138 - accuracy: 1.0000\n",
            "Epoch 14/35\n",
            "120/120 [==============================] - 3s 23ms/step - loss: 0.0135 - accuracy: 1.0000\n",
            "Epoch 15/35\n",
            "120/120 [==============================] - 3s 23ms/step - loss: 0.0132 - accuracy: 1.0000\n",
            "Epoch 16/35\n",
            "120/120 [==============================] - 3s 23ms/step - loss: 0.0129 - accuracy: 1.0000\n",
            "Epoch 17/35\n",
            "120/120 [==============================] - 3s 23ms/step - loss: 0.0127 - accuracy: 1.0000\n",
            "Epoch 18/35\n",
            "120/120 [==============================] - 3s 23ms/step - loss: 0.0124 - accuracy: 1.0000\n",
            "Epoch 19/35\n",
            "120/120 [==============================] - 3s 23ms/step - loss: 0.0122 - accuracy: 1.0000\n",
            "Epoch 20/35\n",
            "120/120 [==============================] - 3s 23ms/step - loss: 0.0120 - accuracy: 1.0000\n",
            "Epoch 21/35\n",
            "120/120 [==============================] - 3s 23ms/step - loss: 0.0117 - accuracy: 1.0000\n",
            "Epoch 22/35\n",
            "120/120 [==============================] - 3s 23ms/step - loss: 0.0116 - accuracy: 1.0000\n",
            "Epoch 23/35\n",
            "120/120 [==============================] - 3s 23ms/step - loss: 0.0112 - accuracy: 1.0000\n",
            "Epoch 24/35\n",
            "120/120 [==============================] - 3s 23ms/step - loss: 0.0110 - accuracy: 1.0000\n",
            "Epoch 25/35\n",
            "120/120 [==============================] - 3s 23ms/step - loss: 0.0108 - accuracy: 1.0000\n",
            "Epoch 26/35\n",
            "120/120 [==============================] - 3s 23ms/step - loss: 0.0121 - accuracy: 0.9997\n",
            "Epoch 27/35\n",
            "120/120 [==============================] - 3s 23ms/step - loss: 0.0362 - accuracy: 0.9925\n",
            "Epoch 28/35\n",
            "120/120 [==============================] - 3s 23ms/step - loss: 0.0199 - accuracy: 0.9975\n",
            "Epoch 29/35\n",
            "120/120 [==============================] - 3s 23ms/step - loss: 0.0137 - accuracy: 0.9995\n",
            "Epoch 30/35\n",
            "120/120 [==============================] - 3s 23ms/step - loss: 0.0119 - accuracy: 0.9999\n",
            "Epoch 31/35\n",
            "120/120 [==============================] - 3s 23ms/step - loss: 0.0111 - accuracy: 0.9999\n",
            "Epoch 32/35\n",
            "120/120 [==============================] - 3s 23ms/step - loss: 0.0107 - accuracy: 1.0000\n",
            "Epoch 33/35\n",
            "120/120 [==============================] - 3s 23ms/step - loss: 0.0105 - accuracy: 1.0000\n",
            "Epoch 34/35\n",
            "120/120 [==============================] - 3s 23ms/step - loss: 0.0103 - accuracy: 1.0000\n",
            "Epoch 35/35\n",
            "120/120 [==============================] - 3s 23ms/step - loss: 0.0101 - accuracy: 1.0000\n"
          ]
        },
        {
          "output_type": "execute_result",
          "data": {
            "text/plain": [
              "<keras.callbacks.History at 0x7fec1d25b580>"
            ]
          },
          "metadata": {},
          "execution_count": 31
        }
      ]
    },
    {
      "cell_type": "code",
      "source": [
        "# saving the model for reproducibility\n",
        "\n",
        "NNmodel2.save(\"/content/drive/MyDrive/optimization_hw_1.h5\")"
      ],
      "metadata": {
        "id": "KDLErZ3ZH40P"
      },
      "execution_count": null,
      "outputs": []
    },
    {
      "cell_type": "markdown",
      "source": [
        "Run from here"
      ],
      "metadata": {
        "id": "TPb_wDTtQZZG"
      }
    },
    {
      "cell_type": "code",
      "source": [
        "import tensorflow as tf\n",
        "import numpy as np\n",
        "import matplotlib.pyplot as plt\n",
        "from numpy.random import seed\n",
        "import pandas as pd\n",
        "%matplotlib inline\n",
        "\n",
        "from google.colab import drive\n",
        "drive.mount('/content/drive')"
      ],
      "metadata": {
        "colab": {
          "base_uri": "https://localhost:8080/"
        },
        "id": "bhX0WTzNQkvZ",
        "outputId": "4a5d0fd3-eb94-4184-84bf-f5cf2ae4cf74"
      },
      "execution_count": null,
      "outputs": [
        {
          "output_type": "stream",
          "name": "stdout",
          "text": [
            "Mounted at /content/drive\n"
          ]
        }
      ]
    },
    {
      "cell_type": "code",
      "source": [
        "mnist = tf.keras.datasets.mnist\n",
        "\n",
        "(x_train, y_train),(x_test, y_test) = mnist.load_data()\n",
        "x_train, x_test = x_train / 255.0, x_test / 255.0\n",
        "\n",
        "ndata_train = x_train.shape[0]\n",
        "ndata_test = x_test.shape[0]\n",
        "\n",
        "x_train_plot = x_train\n",
        "x_test_plot = x_test\n",
        "\n",
        "x_train = x_train.reshape((ndata_train,28,28,1))\n",
        "x_test = x_test.reshape((ndata_test,28,28,1))\n",
        "\n",
        "xshape = x_train.shape[1:4]"
      ],
      "metadata": {
        "colab": {
          "base_uri": "https://localhost:8080/"
        },
        "id": "TmXl7-lnQb9j",
        "outputId": "e3da366e-1467-4e19-b16c-02716f945cce"
      },
      "execution_count": null,
      "outputs": [
        {
          "output_type": "stream",
          "name": "stdout",
          "text": [
            "Downloading data from https://storage.googleapis.com/tensorflow/tf-keras-datasets/mnist.npz\n",
            "11490434/11490434 [==============================] - 2s 0us/step\n"
          ]
        }
      ]
    },
    {
      "cell_type": "code",
      "source": [
        "# loading the saved model\n",
        "NNmodel2 = tf.keras.models.load_model(\"/content/drive/MyDrive/optimization_hw_1.h5\")"
      ],
      "metadata": {
        "id": "hiZozBRxIFu3"
      },
      "execution_count": null,
      "outputs": []
    },
    {
      "cell_type": "code",
      "source": [
        "pred_probs2 = NNmodel2.predict(x_test)\n",
        "pred2 = np.argmax(pred_probs2, axis=1)\n",
        "print(np.mean(pred2==y_test)) # we have achieved 99%+ accuracy"
      ],
      "metadata": {
        "colab": {
          "base_uri": "https://localhost:8080/"
        },
        "id": "SRp1j2Fb7Gyo",
        "outputId": "2f623505-8fd1-443f-d7b0-f7dfe87cdf64"
      },
      "execution_count": null,
      "outputs": [
        {
          "output_type": "stream",
          "name": "stdout",
          "text": [
            "313/313 [==============================] - 7s 2ms/step\n",
            "0.9942\n"
          ]
        }
      ]
    },
    {
      "cell_type": "code",
      "source": [
        "flase_index = np.where(pred2!=y_test)"
      ],
      "metadata": {
        "id": "YGvOGYaeFdx5"
      },
      "execution_count": null,
      "outputs": []
    },
    {
      "cell_type": "code",
      "source": [
        "len(flase_index[0])"
      ],
      "metadata": {
        "colab": {
          "base_uri": "https://localhost:8080/"
        },
        "id": "06qfyYE40R_H",
        "outputId": "0414b198-ed82-4451-967a-9f6db7d1fda8"
      },
      "execution_count": null,
      "outputs": [
        {
          "output_type": "execute_result",
          "data": {
            "text/plain": [
              "58"
            ]
          },
          "metadata": {},
          "execution_count": 6
        }
      ]
    },
    {
      "cell_type": "code",
      "source": [
        "for x in flase_index:\n",
        "  correct = y_test[x]\n",
        "  false = pred2[x]"
      ],
      "metadata": {
        "id": "kgUace69A-_t"
      },
      "execution_count": null,
      "outputs": []
    },
    {
      "cell_type": "code",
      "source": [
        "combined = list(zip(correct, false))\n",
        "combined_df = pd.DataFrame(combined, columns=[\"Correct\",\"False\"])"
      ],
      "metadata": {
        "id": "uuvSImgwK5dY"
      },
      "execution_count": null,
      "outputs": []
    },
    {
      "cell_type": "code",
      "source": [
        "from collections import Counter\n",
        "\n",
        "corrCount = Counter(correct)\n",
        "df = pd.DataFrame.from_dict(corrCount, orient='index')\n",
        "df.plot(kind='bar', title = 'Frequency of Numbers Incorrectly Classified')"
      ],
      "metadata": {
        "colab": {
          "base_uri": "https://localhost:8080/",
          "height": 295
        },
        "id": "0ojnZuQDFB8r",
        "outputId": "d9bdbd8e-1394-4894-fbf0-e1808341167f"
      },
      "execution_count": null,
      "outputs": [
        {
          "output_type": "execute_result",
          "data": {
            "text/plain": [
              "<matplotlib.axes._subplots.AxesSubplot at 0x7f42609e55e0>"
            ]
          },
          "metadata": {},
          "execution_count": 10
        },
        {
          "output_type": "display_data",
          "data": {
            "text/plain": [
              "<Figure size 432x288 with 1 Axes>"
            ],
            "image/png": "[encoded data removed]"
          },
          "metadata": {
            "needs_background": "light"
          }
        }
      ]
    },
    {
      "cell_type": "code",
      "source": [
        "falseCount = Counter(false)\n",
        "df = pd.DataFrame.from_dict(falseCount, orient='index')\n",
        "df.plot(kind='bar', title = 'Frequency of Numbers Incorrectly Predicted')"
      ],
      "metadata": {
        "colab": {
          "base_uri": "https://localhost:8080/",
          "height": 295
        },
        "id": "ZOR3vR4GFnjd",
        "outputId": "cc7e89fb-2f11-4d74-f9c8-c1eb1662bcc1"
      },
      "execution_count": null,
      "outputs": [
        {
          "output_type": "execute_result",
          "data": {
            "text/plain": [
              "<matplotlib.axes._subplots.AxesSubplot at 0x7f41ed3974f0>"
            ]
          },
          "metadata": {},
          "execution_count": 13
        },
        {
          "output_type": "display_data",
          "data": {
            "text/plain": [
              "<Figure size 432x288 with 1 Axes>"
            ],
            "image/png": "[encoded data removed]"
          },
          "metadata": {
            "needs_background": "light"
          }
        }
      ]
    },
    {
      "cell_type": "code",
      "source": [
        "combinedCount = Counter(combined)\n",
        "combinedCount = sorted(combinedCount.items(), key=lambda x:x[1], reverse=True)[:10]\n",
        "\n",
        "combinedCountDict = dict(combinedCount)\n",
        "print(combinedCountDict)\n"
      ],
      "metadata": {
        "colab": {
          "base_uri": "https://localhost:8080/"
        },
        "id": "1naZVMV8uZBu",
        "outputId": "b56759ec-85fc-4f54-9bd6-697741f902fc"
      },
      "execution_count": null,
      "outputs": [
        {
          "output_type": "stream",
          "name": "stdout",
          "text": [
            "{(3, 5): 5, (9, 4): 5, (4, 9): 5, (7, 1): 4, (2, 7): 3, (5, 3): 3, (1, 3): 3, (9, 7): 3, (6, 0): 2, (8, 2): 2}\n"
          ]
        }
      ]
    },
    {
      "cell_type": "code",
      "source": [
        "\n",
        "df = pd.DataFrame.from_dict(combinedCountDict, orient='index')\n",
        "df.plot(kind='bar', title = 'Frequency of Incorrect Classifications')"
      ],
      "metadata": {
        "colab": {
          "base_uri": "https://localhost:8080/",
          "height": 315
        },
        "id": "y0Gc36NDLdWh",
        "outputId": "4797f76a-1d9e-4c23-f82d-3929f5a9a274"
      },
      "execution_count": null,
      "outputs": [
        {
          "output_type": "execute_result",
          "data": {
            "text/plain": [
              "<matplotlib.axes._subplots.AxesSubplot at 0x7f41ed397880>"
            ]
          },
          "metadata": {},
          "execution_count": 15
        },
        {
          "output_type": "display_data",
          "data": {
            "text/plain": [
              "<Figure size 432x288 with 1 Axes>"
            ],
            "image/png": "[encoded data removed]"
          },
          "metadata": {
            "needs_background": "light"
          }
        }
      ]
    },
    {
      "cell_type": "code",
      "source": [
        "combined_df[\"index\"] = flase_index[0]"
      ],
      "metadata": {
        "id": "fJbG_FduNHKT"
      },
      "execution_count": null,
      "outputs": []
    },
    {
      "cell_type": "code",
      "source": [
        "# lets plot and check which images are incorrectly predicted\n",
        "\n",
        "num_correct = 9\n",
        "num_false = 4\n",
        "indexes = combined_df[(combined_df['Correct']==num_correct)&(combined_df['False']==num_false)]['index']\n",
        "\n",
        "#print(\"Below are the images for \" + str(num_correct) +\" that were misclassified as \" + str(num_false))\n",
        "\n",
        "#plt.title(\"Below are the images for \" + str(num_correct) +\" that were misclassified as \" + str(num_false))\n",
        "\n",
        "for i in indexes:\n",
        "  plt.pcolor( 1-x_test_plot[i,::-1,:] , cmap = 'gray' );\n",
        "  plt.axis('off')\n",
        "  plt.show()"
      ],
      "metadata": {
        "colab": {
          "base_uri": "https://localhost:8080/",
          "height": 1000
        },
        "id": "xXIw-YYVMrux",
        "outputId": "4e808ca4-130e-41c7-90c8-91e87070dbe5"
      },
      "execution_count": null,
      "outputs": [
        {
          "output_type": "display_data",
          "data": {
            "text/plain": [
              "<Figure size 432x288 with 1 Axes>"
            ],
            "image/png": "[encoded data removed]"
          },
          "metadata": {
            "needs_background": "light"
          }
        },
        {
          "output_type": "display_data",
          "data": {
            "text/plain": [
              "<Figure size 432x288 with 1 Axes>"
            ],
            "image/png": "[encoded data removed]"
          },
          "metadata": {
            "needs_background": "light"
          }
        },
        {
          "output_type": "display_data",
          "data": {
            "text/plain": [
              "<Figure size 432x288 with 1 Axes>"
            ],
            "image/png": "[encoded data removed]"
          },
          "metadata": {
            "needs_background": "light"
          }
        },
        {
          "output_type": "display_data",
          "data": {
            "text/plain": [
              "<Figure size 432x288 with 1 Axes>"
            ],
            "image/png": "[encoded data removed]"
          },
          "metadata": {
            "needs_background": "light"
          }
        },
        {
          "output_type": "display_data",
          "data": {
            "text/plain": [
              "<Figure size 432x288 with 1 Axes>"
            ],
            "image/png": "[encoded data removed]"
          },
          "metadata": {
            "needs_background": "light"
          }
        }
      ]
    },
    {
      "cell_type": "code",
      "source": [
        "i=600\n",
        "plt.pcolor( 1-x_test_plot[i,::-1,:] , cmap = 'gray' );\n",
        "plt.axis('off')\n",
        "plt.show()"
      ],
      "metadata": {
        "colab": {
          "base_uri": "https://localhost:8080/",
          "height": 248
        },
        "id": "ZpjO-fXR_W7q",
        "outputId": "146a3532-6f2e-418e-fc6e-73d2baa1a8a1"
      },
      "execution_count": null,
      "outputs": [
        {
          "output_type": "display_data",
          "data": {
            "text/plain": [
              "<Figure size 432x288 with 1 Axes>"
            ],
            "image/png": "[encoded data removed]"
          },
          "metadata": {
            "needs_background": "light"
          }
        }
      ]
    },
    {
      "cell_type": "markdown",
      "source": [
        "Anvil\n"
      ],
      "metadata": {
        "id": "T8LqKokYLfP3"
      }
    },
    {
      "cell_type": "code",
      "source": [
        "!pip install anvil-uplink\n",
        "import anvil.server\n",
        "\n",
        "anvil.server.connect(\"D3VVAFR652NFVMQWI34IUFX5-QMGH4C2CANKOMZJB\")"
      ],
      "metadata": {
        "id": "NWKKToptLe7i",
        "colab": {
          "base_uri": "https://localhost:8080/",
          "height": 486
        },
        "outputId": "a12eab96-9fc5-451a-96ad-b1653cb53394"
      },
      "execution_count": null,
      "outputs": [
        {
          "output_type": "stream",
          "name": "stdout",
          "text": [
            "Looking in indexes: https://pypi.org/simple, https://us-python.pkg.dev/colab-wheels/public/simple/\n",
            "Collecting anvil-uplink\n",
            "  Downloading anvil_uplink-0.4.1-py2.py3-none-any.whl (87 kB)\n",
            "\u001b[2K     \u001b[90m━━━━━━━━━━━━━━━━━━━━━━━━━━━━━━━━━━━━━━━━\u001b[0m \u001b[32m88.0/88.0 KB\u001b[0m \u001b[31m11.1 MB/s\u001b[0m eta \u001b[36m0:00:00\u001b[0m\n",
            "\u001b[?25hRequirement already satisfied: future in /usr/local/lib/python3.8/dist-packages (from anvil-uplink) (0.16.0)\n",
            "Collecting argparse\n",
            "  Downloading argparse-1.4.0-py2.py3-none-any.whl (23 kB)\n",
            "Requirement already satisfied: six in /usr/local/lib/python3.8/dist-packages (from anvil-uplink) (1.15.0)\n",
            "Collecting ws4py\n",
            "  Downloading ws4py-0.5.1.tar.gz (51 kB)\n",
            "\u001b[2K     \u001b[90m━━━━━━━━━━━━━━━━━━━━━━━━━━━━━━━━━━━━━━━━\u001b[0m \u001b[32m51.4/51.4 KB\u001b[0m \u001b[31m8.1 MB/s\u001b[0m eta \u001b[36m0:00:00\u001b[0m\n",
            "\u001b[?25h  Preparing metadata (setup.py) ... \u001b[?25l\u001b[?25hdone\n",
            "Building wheels for collected packages: ws4py\n",
            "  Building wheel for ws4py (setup.py) ... \u001b[?25l\u001b[?25hdone\n",
            "  Created wheel for ws4py: filename=ws4py-0.5.1-py3-none-any.whl size=45229 sha256=8da0b095dc20f61fd41adb312475064b9a4d733d3dc822e7e8be01bbc83dee7a\n",
            "  Stored in directory: /root/.cache/pip/wheels/ea/f9/a1/34e2943cce3cf7daca304bfc35e91280694ced9194a487ce2f\n",
            "Successfully built ws4py\n",
            "Installing collected packages: ws4py, argparse, anvil-uplink\n",
            "Successfully installed anvil-uplink-0.4.1 argparse-1.4.0 ws4py-0.5.1\n"
          ]
        },
        {
          "output_type": "display_data",
          "data": {
            "application/vnd.colab-display-data+json": {
              "pip_warning": {
                "packages": [
                  "argparse",
                  "google"
                ]
              }
            }
          },
          "metadata": {}
        },
        {
          "output_type": "stream",
          "name": "stdout",
          "text": [
            "Connecting to wss://anvil.works/uplink\n",
            "Anvil websocket open\n",
            "Connected to \"Default environment\" as SERVER\n"
          ]
        }
      ]
    },
    {
      "cell_type": "code",
      "source": [
        "import anvil.server\n",
        "\n",
        "anvil.server.connect(\"D3VVAFR652NFVMQWI34IUFX5-QMGH4C2CANKOMZJB\")\n",
        "\n",
        "@anvil.server.callable\n",
        "def anvil_predict(fetch_array):\n",
        "  NNmodel2 = tf.keras.models.load_model(\"optimization_hw_1.h5\")\n",
        "  return_value = np.argmax(NNmodel2.predict(np.expand_dims(np.expand_dims(fetch_array, axis=0), axis=3)), axis=1)[0]\n",
        "  return return_value\n",
        "\n",
        "anvil.server.wait_forever()"
      ],
      "metadata": {
        "id": "3LQCZVhcLj7I"
      },
      "execution_count": null,
      "outputs": []
    }
  ],
  "metadata": {
    "colab": {
      "provenance": []
    },
    "kernelspec": {
      "display_name": "DeepL",
      "language": "python",
      "name": "python3"
    },
    "language_info": {
      "codemirror_mode": {
        "name": "ipython",
        "version": 3
      },
      "file_extension": ".py",
      "mimetype": "text/x-python",
      "name": "python",
      "nbconvert_exporter": "python",
      "pygments_lexer": "ipython3",
      "version": "3.7.15 (default, Nov 24 2022, 18:44:54) [MSC v.1916 64 bit (AMD64)]"
    },
    "vscode": {
      "interpreter": {
        "hash": "f0a65a2bdaab8b4bbac0bbf7f826234024e3829c98557b078f4d70f34e946ba2"
      }
    },
    "gpuClass": "standard",
    "accelerator": "GPU"
  },
  "nbformat": 4,
  "nbformat_minor": 0
}