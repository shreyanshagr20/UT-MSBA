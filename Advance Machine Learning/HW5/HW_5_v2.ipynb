{
 "cells": [
  {
   "cell_type": "markdown",
   "metadata": {
    "id": "JKvSB2T_7DSd"
   },
   "source": [
    "<b> MIS 382N: ADVANCED MACHINE LEARNING<b>\n",
    "\n",
    "Assignment 5\n",
    "\n",
    "Total points: 55\n",
    "\n",
    "Due:  to be submitted via Canvas by 11:59 pm, Mon Nov 21st.\n",
    "\n",
    "Your homework should be written in a python notebook. If you prefer, you can work in groups of two. **Please note that only one student per team needs to submit the assignment on Canvas but make sure to include both students' names and UT EIDs.**\n",
    "\n",
    "For any question that requires a handwritten solution, you may upload scanned images of your solution in the notebook or attach them to the assignment . You may write your solution using markdown as well.\n",
    "\n",
    "Please make sure your code runs and the graphs and figures are displayed in your notebook before submitting. (%matplotlib inline)\n",
    "\n",
    "**Additionally, upload any images you plan to incorporate in your notebook as attachments so we can see them in case the uploaded images don't appear properly on our end.**"
   ]
  },
  {
   "cell_type": "markdown",
   "metadata": {
    "id": "c8BTU0m37IUE"
   },
   "source": [
    "**This can be an individual assignment or group of 2. If you choose to do it as a group, please specify who you are working with (name and EID), then only one student should submit the homework. Put your name and eid here.**\n",
    "\n",
    "Name: Praneet Kumar Alamuri\n",
    "\n",
    "EID: pa22222\n",
    "\n",
    "Name: Shreyansh Agrawal\n",
    "\n",
    "EID:sa55742"
   ]
  },
  {
   "cell_type": "markdown",
   "metadata": {
    "id": "jGfL_nla7Owr"
   },
   "source": [
    "# Question 1: Ensemble Methods [10 pts]\n",
    "Read this [article](https://towardsdatascience.com/catboost-vs-light-gbm-vs-xgboost-5f93620723db) on different boosting methods. Briefly describe the main advantages and disadvantages of  CatBoost as compared to XGBoost."
   ]
  },
  {
   "cell_type": "markdown",
   "metadata": {
    "id": "ffVeiLaguntO"
   },
   "source": [
    "#Answer:"
   ]
  },
  {
   "cell_type": "markdown",
   "metadata": {},
   "source": [
    "**Advantages of CatBoost over XGBoost:**  \n",
    "\n",
    "1) Categorical features encoding - It automatically performs one hot encoding on the categorical columns. Also, how high cardinality features it uses an efficient method that reduces overfitting.\n",
    "\n",
    "2) Faster - CatBoost builds symmetric trees; this approach leads to less less prediction time. Also, it controls overfitting as it has the functionality to also perform regularization.     \n",
    "\n",
    "3) CatBoost has a functionality to stop training earlier that the training parameters provided if overfitting occurs \n",
    "\n",
    "4) CatBoost also provides three strategies to handle missing values    \n",
    "\n",
    "**Disadvantages of CatBoost over XGBoost:**\n",
    "\n",
    "One major disadvantage of Catboost is - \n",
    "\n",
    "a) As seen in the article, CatBoost performs well only if there are categorical variables and proper hyperparameter tuning is done. (Example given in article - The best result was obtained only after one_hot_max_size encoding)"
   ]
  },
  {
   "cell_type": "markdown",
   "metadata": {
    "id": "Q5pwQYRU7dz6"
   },
   "source": [
    "# Question 2 : Ensemble Methods for Classification [25 pts]\n",
    "\n",
    "We look at the following dataset [GiveMeSomeCredit](https://www.kaggle.com/c/GiveMeSomeCredit) for this question. The dataset is extremely large so for this question we only consider a subset of the data which has been provided along with the notebook for this assignment.\n",
    "The task is to predict the probability that someone will experience financial distress in the next two years. The dataset has already been split into train and test sets."
   ]
  },
  {
   "cell_type": "code",
   "execution_count": null,
   "metadata": {
    "id": "MWJwIH6O24LF"
   },
   "outputs": [],
   "source": [
    "# Only use this code block if you are using Google Colab.\n",
    "# If you are using Jupyter Notebook, please ignore this code block. You can directly upload the file to your Jupyter Notebook file systems.\n",
    "from google.colab import files\n",
    "\n",
    "## It will prompt you to select a local file. Click on “Choose Files” then select and upload the file. \n",
    "## Wait for the file to be 100% uploaded. You should see the name of the file once Colab has uploaded it.\n",
    "uploaded = files.upload()"
   ]
  },
  {
   "cell_type": "code",
   "execution_count": 1,
   "metadata": {
    "colab": {
     "base_uri": "https://localhost:8080/",
     "height": 288
    },
    "id": "-cvY2yHO8TcQ",
    "outputId": "2939ba7a-0f9b-4574-cb6c-3298b186df5d"
   },
   "outputs": [
    {
     "data": {
      "text/html": [
       "<div>\n",
       "<style scoped>\n",
       "    .dataframe tbody tr th:only-of-type {\n",
       "        vertical-align: middle;\n",
       "    }\n",
       "\n",
       "    .dataframe tbody tr th {\n",
       "        vertical-align: top;\n",
       "    }\n",
       "\n",
       "    .dataframe thead th {\n",
       "        text-align: right;\n",
       "    }\n",
       "</style>\n",
       "<table border=\"1\" class=\"dataframe\">\n",
       "  <thead>\n",
       "    <tr style=\"text-align: right;\">\n",
       "      <th></th>\n",
       "      <th>SeriousDlqin2yrs</th>\n",
       "      <th>RevolvingUtilizationOfUnsecuredLines</th>\n",
       "      <th>age</th>\n",
       "      <th>NumberOfTime30-59DaysPastDueNotWorse</th>\n",
       "      <th>DebtRatio</th>\n",
       "      <th>MonthlyIncome</th>\n",
       "      <th>NumberOfOpenCreditLinesAndLoans</th>\n",
       "      <th>NumberOfTimes90DaysLate</th>\n",
       "      <th>NumberRealEstateLoansOrLines</th>\n",
       "      <th>NumberOfTime60-89DaysPastDueNotWorse</th>\n",
       "      <th>NumberOfDependents</th>\n",
       "    </tr>\n",
       "  </thead>\n",
       "  <tbody>\n",
       "    <tr>\n",
       "      <th>0</th>\n",
       "      <td>0</td>\n",
       "      <td>0.571373</td>\n",
       "      <td>66</td>\n",
       "      <td>0</td>\n",
       "      <td>0.430620</td>\n",
       "      <td>9274.0</td>\n",
       "      <td>10</td>\n",
       "      <td>0</td>\n",
       "      <td>1</td>\n",
       "      <td>0</td>\n",
       "      <td>0.0</td>\n",
       "    </tr>\n",
       "    <tr>\n",
       "      <th>1</th>\n",
       "      <td>0</td>\n",
       "      <td>0.233999</td>\n",
       "      <td>56</td>\n",
       "      <td>0</td>\n",
       "      <td>0.257380</td>\n",
       "      <td>5656.0</td>\n",
       "      <td>12</td>\n",
       "      <td>0</td>\n",
       "      <td>0</td>\n",
       "      <td>0</td>\n",
       "      <td>0.0</td>\n",
       "    </tr>\n",
       "    <tr>\n",
       "      <th>2</th>\n",
       "      <td>0</td>\n",
       "      <td>0.299270</td>\n",
       "      <td>33</td>\n",
       "      <td>0</td>\n",
       "      <td>0.114575</td>\n",
       "      <td>4747.0</td>\n",
       "      <td>8</td>\n",
       "      <td>0</td>\n",
       "      <td>0</td>\n",
       "      <td>0</td>\n",
       "      <td>3.0</td>\n",
       "    </tr>\n",
       "    <tr>\n",
       "      <th>3</th>\n",
       "      <td>0</td>\n",
       "      <td>0.032165</td>\n",
       "      <td>41</td>\n",
       "      <td>0</td>\n",
       "      <td>0.308326</td>\n",
       "      <td>8490.0</td>\n",
       "      <td>8</td>\n",
       "      <td>0</td>\n",
       "      <td>1</td>\n",
       "      <td>0</td>\n",
       "      <td>0.0</td>\n",
       "    </tr>\n",
       "    <tr>\n",
       "      <th>4</th>\n",
       "      <td>0</td>\n",
       "      <td>0.050591</td>\n",
       "      <td>36</td>\n",
       "      <td>0</td>\n",
       "      <td>0.862627</td>\n",
       "      <td>3333.0</td>\n",
       "      <td>8</td>\n",
       "      <td>0</td>\n",
       "      <td>2</td>\n",
       "      <td>0</td>\n",
       "      <td>0.0</td>\n",
       "    </tr>\n",
       "  </tbody>\n",
       "</table>\n",
       "</div>"
      ],
      "text/plain": [
       "   SeriousDlqin2yrs  RevolvingUtilizationOfUnsecuredLines  age  \\\n",
       "0                 0                              0.571373   66   \n",
       "1                 0                              0.233999   56   \n",
       "2                 0                              0.299270   33   \n",
       "3                 0                              0.032165   41   \n",
       "4                 0                              0.050591   36   \n",
       "\n",
       "   NumberOfTime30-59DaysPastDueNotWorse  DebtRatio  MonthlyIncome  \\\n",
       "0                                     0   0.430620         9274.0   \n",
       "1                                     0   0.257380         5656.0   \n",
       "2                                     0   0.114575         4747.0   \n",
       "3                                     0   0.308326         8490.0   \n",
       "4                                     0   0.862627         3333.0   \n",
       "\n",
       "   NumberOfOpenCreditLinesAndLoans  NumberOfTimes90DaysLate  \\\n",
       "0                               10                        0   \n",
       "1                               12                        0   \n",
       "2                                8                        0   \n",
       "3                                8                        0   \n",
       "4                                8                        0   \n",
       "\n",
       "   NumberRealEstateLoansOrLines  NumberOfTime60-89DaysPastDueNotWorse  \\\n",
       "0                             1                                     0   \n",
       "1                             0                                     0   \n",
       "2                             0                                     0   \n",
       "3                             1                                     0   \n",
       "4                             2                                     0   \n",
       "\n",
       "   NumberOfDependents  \n",
       "0                 0.0  \n",
       "1                 0.0  \n",
       "2                 3.0  \n",
       "3                 0.0  \n",
       "4                 0.0  "
      ]
     },
     "execution_count": 1,
     "metadata": {},
     "output_type": "execute_result"
    }
   ],
   "source": [
    "import pandas as pd\n",
    "\n",
    "data = pd.read_csv('hw5_data.csv')\n",
    "data.drop(data.columns[data.columns.str.contains('unnamed',case = False)],axis = 1, inplace = True)\n",
    "data.head()"
   ]
  },
  {
   "cell_type": "code",
   "execution_count": 2,
   "metadata": {
    "colab": {
     "base_uri": "https://localhost:8080/"
    },
    "id": "VCiWKO8k83pd",
    "outputId": "610cd46c-3556-47c0-e4a8-070c98225a8c"
   },
   "outputs": [
    {
     "name": "stdout",
     "output_type": "stream",
     "text": [
      "train (3750, 10) (3750,)\n",
      "test (1250, 10) (1250,)\n"
     ]
    }
   ],
   "source": [
    "from sklearn.model_selection import train_test_split\n",
    "y = data['SeriousDlqin2yrs']\n",
    "X = data.drop(['SeriousDlqin2yrs'],axis=1)\n",
    "X_train, X_test, y_train, y_test = train_test_split(X, y, test_size = 0.25, random_state = 7)\n",
    "\n",
    "print('train',X_train.shape,y_train.shape)\n",
    "print('test',X_test.shape,y_test.shape)"
   ]
  },
  {
   "cell_type": "markdown",
   "metadata": {
    "id": "1J4ptb5l9Bca"
   },
   "source": [
    "In this question, we will compare performance of different ensemble methods for classification problems: [Bagging](https://scikit-learn.org/stable/modules/generated/sklearn.ensemble.BaggingClassifier.html), [AdaBoost](https://scikit-learn.org/stable/modules/generated/sklearn.ensemble.AdaBoostClassifier.html), and [Random Forest](https://scikit-learn.org/stable/modules/generated/sklearn.ensemble.RandomForestClassifier.html) Classifiers.\n",
    "\n",
    "a) **[2.5 pts]** Use a Decision Tree Classifier with random_state = 14 for the classification problem. Report the accuracy_score and roc_auc_score on the test data for the classifier.\n",
    "\n",
    "b) **[2.5 pts]** Create an ensemble of 25 classifiers (i.e n_estimators = 25) with random_state = 14 for [bagging](https://scikit-learn.org/stable/modules/generated/sklearn.ensemble.BaggingClassifier.html) with base classifier as Decision Tree Classifier from part a). Report accuracy_score and roc_auc_score on the test data for the Bagging classifiers. \n",
    "\n",
    "c) **[5 pts]** Use the training data and build a [Random Forest](http://scikit-learn.org/stable/modules/generated/sklearn.ensemble.RandomForestClassifier.html) model for the classification problem. Find the best parameters (including *n_estimators*, *max_features* and *criterion*) using [GridSearchCV](http://scikit-learn.org/stable/modules/generated/sklearn.model_selection.GridSearchCV.html). Report the optimal parameters obtained by GridSearch. Report the confusion matrix  and [roc_auc_score](http://scikit-learn.org/stable/modules/generated/sklearn.metrics.roc_auc_score.html#sklearn.metrics.roc_auc_score) on test data using the model fit with best parameters.\n",
    "\n",
    "d) **[5 pts]** Use [AdaBoost](http://scikit-learn.org/stable/modules/generated/sklearn.ensemble.AdaBoostClassifier.html#sklearn.ensemble.AdaBoostClassifier) for this problem. Again, find the best parameters (including *n_estimators, learning_rate*), and report the confusion matrix and roc_auc_score on test data for the classifier fit with best parameters found using training data.\n",
    "\n",
    "e) **[5 pts]** Use [Gradient Boosting](https://scikit-learn.org/stable/modules/generated/sklearn.ensemble.GradientBoostingClassifier.html) for this problem. Again, find the best parameters (including *n_estimators, learning_rate*), and report the confusion matrix and roc_auc_score on test data for the classifier fit with best parameters found using training data.\n",
    "\n",
    "f) **[5 pts]** Compare the performance of decision tree from part a) with the ensemble methods, Briefly explain which of the three ensemble method performed better and why?"
   ]
  },
  {
   "cell_type": "code",
   "execution_count": 80,
   "metadata": {
    "id": "sbfLYzEESU29"
   },
   "outputs": [],
   "source": [
    "import matplotlib.pyplot as plt\n",
    "from sklearn.model_selection import (train_test_split,GridSearchCV)\n",
    "from sklearn.metrics import (accuracy_score,roc_auc_score)\n",
    "from sklearn.ensemble import (RandomForestClassifier,GradientBoostingClassifier,AdaBoostClassifier)\n",
    "from sklearn.ensemble import RandomForestClassifier, BaggingClassifier\n",
    "from sklearn.metrics import confusion_matrix, plot_confusion_matrix\n",
    "from sklearn.tree import DecisionTreeClassifier\n",
    "from time import time\n",
    "from sklearn.model_selection import GridSearchCV\n",
    "%matplotlib inline\n",
    "\n",
    "import warnings\n",
    "warnings.filterwarnings(\"ignore\")"
   ]
  },
  {
   "cell_type": "code",
   "execution_count": 4,
   "metadata": {
    "id": "Db2-Md7SSkn1"
   },
   "outputs": [],
   "source": [
    "columns_list = list(X.columns)"
   ]
  },
  {
   "cell_type": "code",
   "execution_count": 68,
   "metadata": {},
   "outputs": [],
   "source": [
    "model_scores = dict()\n",
    "scores = pd.DataFrame(columns=['model','accuracy','roc_auc_score'])"
   ]
  },
  {
   "cell_type": "markdown",
   "metadata": {},
   "source": [
    "a) [2.5 pts] Use a Decision Tree Classifier with random_state = 14 for the classification problem. Report the accuracy_score and roc_auc_score on the test data for the classifier."
   ]
  },
  {
   "cell_type": "code",
   "execution_count": 69,
   "metadata": {
    "id": "X7p84Jd6Sr5c"
   },
   "outputs": [
    {
     "name": "stdout",
     "output_type": "stream",
     "text": [
      "accuracy_score is =  0.888\n",
      "roc_auc_score is =  0.5854582176218127\n"
     ]
    }
   ],
   "source": [
    "# Part a)\n",
    "\n",
    "model = DecisionTreeClassifier(random_state = 14)\n",
    "result = model.fit(X_train, y_train)\n",
    "\n",
    "prediction = result.predict(X_test)\n",
    "pred_probs = result.predict_proba(X_test)[:,1]\n",
    "print('accuracy_score is = ',accuracy_score(y_test, prediction))\n",
    "print('roc_auc_score is = ',roc_auc_score(y_test, pred_probs))\n",
    "\n",
    "model_scores['model'] = 'decision_tree'\n",
    "model_scores['accuracy'] = accuracy_score(y_test, prediction) \n",
    "model_scores['roc_auc_score'] = roc_auc_score(y_test, pred_probs)\n",
    "scores = scores.append(model_scores, ignore_index=True)"
   ]
  },
  {
   "cell_type": "markdown",
   "metadata": {},
   "source": [
    "b) [2.5 pts] Create an ensemble of 25 classifiers (i.e n_estimators = 25) with random_state = 14 for bagging with base classifier as Decision Tree Classifier from part a). Report accuracy_score and roc_auc_score on the test data for the Bagging classifiers."
   ]
  },
  {
   "cell_type": "code",
   "execution_count": 70,
   "metadata": {
    "id": "eu7882XwSubQ"
   },
   "outputs": [
    {
     "name": "stdout",
     "output_type": "stream",
     "text": [
      "accuracy_score is =  0.9256\n",
      "roc_auc_score is =  0.7857106791214341\n"
     ]
    }
   ],
   "source": [
    "# Part b)\n",
    "\n",
    "model = BaggingClassifier(DecisionTreeClassifier(random_state = 14), n_estimators=25, random_state = 14)\n",
    "result = model.fit(X_train, y_train)\n",
    "\n",
    "prediction = result.predict(X_test)\n",
    "pred_probs = result.predict_proba(X_test)[:,1]\n",
    "print('accuracy_score is = ',accuracy_score(y_test, prediction))\n",
    "print('roc_auc_score is = ',roc_auc_score(y_test, pred_probs))\n",
    "\n",
    "model_scores['model'] = 'bagging'\n",
    "model_scores['accuracy'] = accuracy_score(y_test, prediction) \n",
    "model_scores['roc_auc_score'] = roc_auc_score(y_test, pred_probs)\n",
    "scores = scores.append(model_scores, ignore_index=True)"
   ]
  },
  {
   "cell_type": "markdown",
   "metadata": {},
   "source": [
    "c) [5 pts] Use the training data and build a Random Forest model for the classification problem. Find the best parameters (including n_estimators, max_features and criterion) using GridSearchCV. Report the optimal parameters obtained by GridSearch. Report the confusion matrix and roc_auc_score on test data using the model fit with best parameters."
   ]
  },
  {
   "cell_type": "code",
   "execution_count": 81,
   "metadata": {
    "id": "1PEjQ1fJSxAB"
   },
   "outputs": [
    {
     "name": "stdout",
     "output_type": "stream",
     "text": [
      "Optimal Hyperparameters: {'criterion': 'entropy', 'max_features': 1, 'n_estimators': 100, 'random_state': 17} \n",
      "\n",
      "roc_auc_score is =  0.8375612219136582 \n",
      "\n",
      "confusion matrix is -->\n",
      " <sklearn.metrics._plot.confusion_matrix.ConfusionMatrixDisplay object at 0x000002743998EF10>\n"
     ]
    },
    {
     "data": {
      "image/png": "[encoded data removed]",
      "text/plain": [
       "<Figure size 432x288 with 2 Axes>"
      ]
     },
     "metadata": {
      "needs_background": "light"
     },
     "output_type": "display_data"
    }
   ],
   "source": [
    "# Part c)\n",
    "clf = RandomForestClassifier()\n",
    "\n",
    "param_grid = {\"n_estimators\": [1, 10, 50, 100],\n",
    "              \"max_features\": [1, 5, 10, \"auto\"],\n",
    "              \"criterion\": ['gini','entropy'],\n",
    "              \"random_state\": [17]}\n",
    "\n",
    "# Grid search\n",
    "\n",
    "clf_grid = GridSearchCV(estimator = clf, param_grid = param_grid)\n",
    "\n",
    "result = clf_grid.fit(X_train, y_train)\n",
    "\n",
    "prediction = result.predict(X_test)\n",
    "pred_probs = result.predict_proba(X_test)[:,1]\n",
    "print('Optimal Hyperparameters: %s' % result.best_params_,'\\n')\n",
    "print('roc_auc_score is = ',roc_auc_score(y_test, pred_probs), '\\n')\n",
    "print('confusion matrix is -->\\n', plot_confusion_matrix(result, X_test, y_true=y_test))\n",
    "\n",
    "model_scores['model'] = 'random_forest'\n",
    "model_scores['accuracy'] = accuracy_score(y_test, prediction) \n",
    "model_scores['roc_auc_score'] = roc_auc_score(y_test, pred_probs)\n",
    "scores = scores.append(model_scores, ignore_index=True)"
   ]
  },
  {
   "cell_type": "markdown",
   "metadata": {},
   "source": [
    "d) [5 pts] Use AdaBoost for this problem. Again, find the best parameters (including n_estimators, learning_rate), and report the confusion matrix and roc_auc_score on test data for the classifier fit with best parameters found using training data."
   ]
  },
  {
   "cell_type": "code",
   "execution_count": 82,
   "metadata": {
    "id": "X7cPUJcDwIIe"
   },
   "outputs": [
    {
     "name": "stdout",
     "output_type": "stream",
     "text": [
      "Optimal Hyperparameters: {'learning_rate': 0.1, 'n_estimators': 100, 'random_state': 17} \n",
      "\n",
      "roc_auc_score is =  0.8390254986114618 \n",
      "\n",
      "confusion matrix is -->\n",
      " <sklearn.metrics._plot.confusion_matrix.ConfusionMatrixDisplay object at 0x0000027442957F10>\n"
     ]
    },
    {
     "data": {
      "image/png": "[encoded data removed]",
      "text/plain": [
       "<Figure size 432x288 with 2 Axes>"
      ]
     },
     "metadata": {
      "needs_background": "light"
     },
     "output_type": "display_data"
    }
   ],
   "source": [
    "# Part d)\n",
    "\n",
    "clf = AdaBoostClassifier()\n",
    "\n",
    "param_grid = {\"n_estimators\": [10, 100],\n",
    "          \"learning_rate\": [0.01, 0.1, 0.5],\n",
    "          \"random_state\": [17]\n",
    "          }\n",
    "\n",
    "# Grid search\n",
    "\n",
    "clf_grid = GridSearchCV(estimator = clf, param_grid = param_grid)\n",
    "\n",
    "result = clf_grid.fit(X_train, y_train)\n",
    "\n",
    "prediction = result.predict(X_test)\n",
    "pred_probs = result.predict_proba(X_test)[:,1]\n",
    "\n",
    "print('Optimal Hyperparameters: %s' % result.best_params_,'\\n')\n",
    "print('roc_auc_score is = ',roc_auc_score(y_test, pred_probs), '\\n')\n",
    "print('confusion matrix is -->\\n', plot_confusion_matrix(result, X_test, y_true=y_test))\n",
    "\n",
    "model_scores['model'] = 'ada_boost'\n",
    "model_scores['accuracy'] = accuracy_score(y_test, prediction) \n",
    "model_scores['roc_auc_score'] = roc_auc_score(y_test, pred_probs)\n",
    "scores = scores.append(model_scores, ignore_index=True)"
   ]
  },
  {
   "cell_type": "markdown",
   "metadata": {},
   "source": [
    "e) [5 pts] Use Gradient Boosting for this problem. Again, find the best parameters (including n_estimators, learning_rate), and report the confusion matrix and roc_auc_score on test data for the classifier fit with best parameters found using training data."
   ]
  },
  {
   "cell_type": "code",
   "execution_count": 83,
   "metadata": {
    "id": "9TsB5OT7_FPW"
   },
   "outputs": [
    {
     "name": "stdout",
     "output_type": "stream",
     "text": [
      "Optimal Hyperparameters: {'learning_rate': 0.1, 'n_estimators': 10, 'random_state': 17} \n",
      "\n",
      "roc_auc_score is =  0.8366372128250441 \n",
      "\n",
      "confusion matrix is -->\n",
      " <sklearn.metrics._plot.confusion_matrix.ConfusionMatrixDisplay object at 0x0000027443596C40>\n"
     ]
    },
    {
     "data": {
      "image/png": "[encoded data removed]",
      "text/plain": [
       "<Figure size 432x288 with 2 Axes>"
      ]
     },
     "metadata": {
      "needs_background": "light"
     },
     "output_type": "display_data"
    }
   ],
   "source": [
    "# Part e)\n",
    "\n",
    "clf = GradientBoostingClassifier()\n",
    "\n",
    "param_grid = {\"n_estimators\": [10, 100],\n",
    "          \"learning_rate\": [0.01, 0.1, 0.5],\n",
    "          \"random_state\": [17]\n",
    "          }\n",
    "# Grid search\n",
    "\n",
    "clf_grid = GridSearchCV(estimator = clf, param_grid = param_grid)\n",
    "\n",
    "result = clf_grid.fit(X_train, y_train)\n",
    "\n",
    "prediction = result.predict(X_test)\n",
    "pred_probs = result.predict_proba(X_test)[:,1]\n",
    "print('Optimal Hyperparameters: %s' % result.best_params_,'\\n')\n",
    "print('roc_auc_score is = ',roc_auc_score(y_test, pred_probs), '\\n')\n",
    "print('confusion matrix is -->\\n', plot_confusion_matrix(result, X_test, y_true=y_test))\n",
    "\n",
    "model_scores['model'] = 'gradient_boosting'\n",
    "model_scores['accuracy'] = accuracy_score(y_test, prediction) \n",
    "model_scores['roc_auc_score'] = roc_auc_score(y_test, pred_probs)\n",
    "scores = scores.append(model_scores, ignore_index=True)"
   ]
  },
  {
   "cell_type": "markdown",
   "metadata": {},
   "source": [
    "f) [5 pts] Compare the performance of decision tree from part a) with the ensemble methods, Briefly explain which of the three ensemble method performed better and why?"
   ]
  },
  {
   "cell_type": "code",
   "execution_count": 74,
   "metadata": {
    "id": "gZZ8VZaD-zm7"
   },
   "outputs": [
    {
     "data": {
      "text/html": [
       "<div>\n",
       "<style scoped>\n",
       "    .dataframe tbody tr th:only-of-type {\n",
       "        vertical-align: middle;\n",
       "    }\n",
       "\n",
       "    .dataframe tbody tr th {\n",
       "        vertical-align: top;\n",
       "    }\n",
       "\n",
       "    .dataframe thead th {\n",
       "        text-align: right;\n",
       "    }\n",
       "</style>\n",
       "<table border=\"1\" class=\"dataframe\">\n",
       "  <thead>\n",
       "    <tr style=\"text-align: right;\">\n",
       "      <th></th>\n",
       "      <th>model</th>\n",
       "      <th>accuracy</th>\n",
       "      <th>roc_auc_score</th>\n",
       "    </tr>\n",
       "  </thead>\n",
       "  <tbody>\n",
       "    <tr>\n",
       "      <th>0</th>\n",
       "      <td>decision_tree</td>\n",
       "      <td>0.888</td>\n",
       "      <td>0.585458</td>\n",
       "    </tr>\n",
       "    <tr>\n",
       "      <th>1</th>\n",
       "      <td>bagging</td>\n",
       "      <td>0.9256</td>\n",
       "      <td>0.785711</td>\n",
       "    </tr>\n",
       "    <tr>\n",
       "      <th>2</th>\n",
       "      <td>random_forest</td>\n",
       "      <td>0.932</td>\n",
       "      <td>0.837561</td>\n",
       "    </tr>\n",
       "    <tr>\n",
       "      <th>3</th>\n",
       "      <td>ada_boost</td>\n",
       "      <td>0.9328</td>\n",
       "      <td>0.839025</td>\n",
       "    </tr>\n",
       "    <tr>\n",
       "      <th>4</th>\n",
       "      <td>gradient_boosting</td>\n",
       "      <td>0.932</td>\n",
       "      <td>0.836637</td>\n",
       "    </tr>\n",
       "  </tbody>\n",
       "</table>\n",
       "</div>"
      ],
      "text/plain": [
       "               model accuracy roc_auc_score\n",
       "0      decision_tree    0.888      0.585458\n",
       "1            bagging   0.9256      0.785711\n",
       "2      random_forest    0.932      0.837561\n",
       "3          ada_boost   0.9328      0.839025\n",
       "4  gradient_boosting    0.932      0.836637"
      ]
     },
     "execution_count": 74,
     "metadata": {},
     "output_type": "execute_result"
    }
   ],
   "source": [
    "# Part f)\n",
    "# scores = pd.DataFrame(columns=['model','accuracy','roc_auc_score'])\n",
    "\n",
    "# scores = scores.append(model_scores, ignore_index=True)\n",
    "scores"
   ]
  },
  {
   "cell_type": "markdown",
   "metadata": {},
   "source": [
    "### 1) Decision tree model has a worse AUC compared to all other ensemble methods and a marginally lower accuracy.\n",
    "\n",
    "### 2) Out of the 3 ensemble models, Adaboost has the best accuracy and roc_auc_score. It performs better than Gradient Boosting as Gradient Boosting is sometimes prone to overfitting"
   ]
  },
  {
   "cell_type": "markdown",
   "metadata": {
    "id": "TP9yD4ZEmNAu"
   },
   "source": [
    "## Question 3: XGBoost on Datasets with varying Class Imbalance [15 points]\n",
    "\n",
    "You are given three datasets (all extracted from the [GiveMeSomeCredit](https://www.kaggle.com/c/GiveMeSomeCredit) dataset which was used in the last question). They have varying levels of class imbalance (positive to negative class ratio):\n",
    "1. dataset_equally_biased_final has a class ratio of 1:1\n",
    "2. dataset_originally_biased_final has a class ratio of 1:15\n",
    "3. dataset_highly_biased_final has a class ratio of 1:39\n",
    "\n",
    "Use [XGBoost](https://xgboost.readthedocs.io/en/stable/python/python_api.html) on these three datasets and plot the [calibration curves](https://scikit-learn.org/stable/modules/generated/sklearn.calibration.calibration_curve.html#sklearn.calibration.calibration_curve) for your predictions. Examine both uniform and quantile binning strategies for your plots and observe how the plots look. For which of the datasets is you model calibrated the best? Which of the binning strategies provide more informative visualization for each of the datasets?"
   ]
  },
  {
   "cell_type": "code",
   "execution_count": null,
   "metadata": {
    "id": "A3hPYJqphpVl"
   },
   "outputs": [],
   "source": [
    "# Only use this code block if you are using Google Colab.\n",
    "# If you are using Jupyter Notebook, please ignore this code block. You can directly upload the file to your Jupyter Notebook file systems.\n",
    "from google.colab import files\n",
    "\n",
    "## It will prompt you to select a local file. Click on “Choose Files” then select and upload the file. \n",
    "## Wait for the file to be 100% uploaded. You should see the name of the file once Colab has uploaded it.\n",
    "uploaded = files.upload()"
   ]
  },
  {
   "cell_type": "code",
   "execution_count": 21,
   "metadata": {
    "colab": {
     "base_uri": "https://localhost:8080/"
    },
    "id": "VAqA-EyldUwi",
    "outputId": "f3ad6f2e-f8ad-49b2-e3ca-c18e6e0661d6"
   },
   "outputs": [
    {
     "name": "stdout",
     "output_type": "stream",
     "text": [
      "Balanced Dataset\n",
      "0    4000\n",
      "1    4000\n",
      "Name: SeriousDlqin2yrs, dtype: int64\n",
      "0    1000\n",
      "1    1000\n",
      "Name: SeriousDlqin2yrs, dtype: int64\n",
      "Originally Imbalanced Dataset\n",
      "0    7466\n",
      "1     534\n",
      "Name: SeriousDlqin2yrs, dtype: int64\n",
      "0    1866\n",
      "1     134\n",
      "Name: SeriousDlqin2yrs, dtype: int64\n",
      "Highly Imbalanced Dataset\n",
      "0    7800\n",
      "1     200\n",
      "Name: SeriousDlqin2yrs, dtype: int64\n",
      "0    1950\n",
      "1      50\n",
      "Name: SeriousDlqin2yrs, dtype: int64\n"
     ]
    }
   ],
   "source": [
    "from sklearn.model_selection import train_test_split\n",
    "import pandas as pd\n",
    "\n",
    "dataset = pd.read_csv(\"data_equally_biased_final.csv\")\n",
    "X = dataset.drop(['SeriousDlqin2yrs'], axis=1)\n",
    "y = dataset['SeriousDlqin2yrs']\n",
    "X_train1, X_test1, y_train1, y_test1 = train_test_split(X, y, test_size = 0.2, random_state = 15, stratify = y)\n",
    "print(\"Balanced Dataset\")\n",
    "# Number of classes in training Data\n",
    "print(y_train1.value_counts())\n",
    "# Number of classes in test Data\n",
    "print(y_test1.value_counts())\n",
    "\n",
    "dataset = pd.read_csv(\"data_originally_biased_final.csv\")\n",
    "X = dataset.drop(['SeriousDlqin2yrs'], axis=1)\n",
    "y = dataset['SeriousDlqin2yrs']\n",
    "X_train2, X_test2, y_train2, y_test2 = train_test_split(X, y, test_size = 0.2, random_state = 15, stratify = y)\n",
    "print(\"Originally Imbalanced Dataset\")\n",
    "# Number of classes in training Data\n",
    "print(y_train2.value_counts())\n",
    "# Number of classes in test Data\n",
    "print(y_test2.value_counts())\n",
    "\n",
    "dataset = pd.read_csv(\"data_highly_biased_final.csv\")\n",
    "X = dataset.drop(['SeriousDlqin2yrs'], axis=1)\n",
    "y = dataset['SeriousDlqin2yrs']\n",
    "X_train3, X_test3, y_train3, y_test3 = train_test_split(X, y, test_size = 0.2, random_state = 15, stratify = y)\n",
    "print(\"Highly Imbalanced Dataset\")\n",
    "# Number of classes in training Data\n",
    "print(y_train3.value_counts())\n",
    "# Number of classes in test Data\n",
    "print(y_test3.value_counts())"
   ]
  },
  {
   "cell_type": "code",
   "execution_count": 22,
   "metadata": {
    "id": "y4hIXJQUub6R"
   },
   "outputs": [],
   "source": [
    "import matplotlib.pyplot as plt\n",
    "from sklearn.model_selection import (train_test_split,GridSearchCV)\n",
    "from sklearn.metrics import (accuracy_score,roc_auc_score)\n",
    "from sklearn.ensemble import (RandomForestClassifier,GradientBoostingClassifier,AdaBoostClassifier)\n",
    "from sklearn.ensemble import RandomForestClassifier, BaggingClassifier\n",
    "from sklearn.metrics import confusion_matrix\n",
    "from sklearn.tree import DecisionTreeClassifier\n",
    "from time import time\n",
    "import xgboost\n",
    "\n",
    "%matplotlib inline"
   ]
  },
  {
   "cell_type": "code",
   "execution_count": 23,
   "metadata": {
    "colab": {
     "base_uri": "https://localhost:8080/"
    },
    "id": "ylGDD7IjjVp-",
    "outputId": "c76b997a-51be-4ef0-fb18-d7370863ed34"
   },
   "outputs": [
    {
     "name": "stdout",
     "output_type": "stream",
     "text": [
      "Balanced Dataset\n",
      "{'learning_rate': 0.1, 'n_estimators': 100, 'random_state': 17}\n",
      "training time 0.567 s\n",
      "predict time 0.0 s\n",
      "XGBoost conf matrix: \n",
      "[[794 206]\n",
      " [228 772]]\n",
      "Accuracy: 0.783\n",
      " AUC_ROC: 0.856863\n",
      "\n",
      "Originally Imbalanced Dataset\n",
      "{'learning_rate': 0.1, 'n_estimators': 100, 'random_state': 17}\n",
      "training time 0.595 s\n",
      "predict time 0.0 s\n",
      "XGBoost conf matrix: \n",
      "[[1843   23]\n",
      " [ 114   20]]\n",
      "Accuracy: 0.9315\n",
      " AUC_ROC: 0.8342691686263217\n",
      "\n",
      "Highly Imbalanced Dataset\n",
      "{'learning_rate': 0.01, 'n_estimators': 100, 'random_state': 17}\n",
      "training time 0.486 s\n",
      "predict time 0.0 s\n",
      "XGBoost conf matrix: \n",
      "[[1945    5]\n",
      " [  50    0]]\n",
      "Accuracy: 0.9725\n",
      " AUC_ROC: 0.8398564102564102\n",
      "\n"
     ]
    }
   ],
   "source": [
    "# Using the earlier dataset and applying XGBoost on it\n",
    "\n",
    "clf = xgboost.XGBClassifier()\n",
    "\n",
    "param_grid = {\"n_estimators\": [10, 100],\n",
    "          \"learning_rate\": [0.01, 0.1, 0.5],\n",
    "          \"random_state\": [17]\n",
    "          }\n",
    "\n",
    "# Grid search\n",
    "grid_search = GridSearchCV(clf, param_grid=param_grid)\n",
    "\n",
    "# Balanced Dataset\n",
    "print(\"Balanced Dataset\")\n",
    "grid_search.fit(X_train1, y_train1)\n",
    "print(grid_search.best_params_)\n",
    "clf.set_params(**grid_search.best_params_)\n",
    "\n",
    "t0 = time()\n",
    "clf.fit(X_train1, y_train1)\n",
    "print(\"training time\", round(time()-t0, 3), \"s\")\n",
    "\n",
    "t0 = time()\n",
    "y_pred_gbt1 = clf.predict(X_test1)\n",
    "print(\"predict time\", round(time()-t0, 3), \"s\")\n",
    "\n",
    "print(\"XGBoost conf matrix: \")\n",
    "print(confusion_matrix(y_test1, y_pred_gbt1))\n",
    "\n",
    "y_pred_proba1 = clf.predict_proba(X_test1)[:,1]\n",
    "\n",
    "acc_score = accuracy_score(y_test1,y_pred_gbt1)\n",
    "auc_score = roc_auc_score(y_test1,y_pred_proba1)\n",
    "print(\"Accuracy: {}\\n AUC_ROC: {}\\n\".format(acc_score,auc_score))\n",
    "\n",
    "\n",
    "# Originally Imbalanced Dataset\n",
    "\n",
    "print(\"Originally Imbalanced Dataset\")\n",
    "grid_search.fit(X_train2, y_train2)\n",
    "print(grid_search.best_params_)\n",
    "clf.set_params(**grid_search.best_params_)\n",
    "\n",
    "t0 = time()\n",
    "clf.fit(X_train2, y_train2)\n",
    "print(\"training time\", round(time()-t0, 3), \"s\")\n",
    "\n",
    "t0 = time()\n",
    "y_pred_gbt2 = clf.predict(X_test2)\n",
    "print(\"predict time\", round(time()-t0, 3), \"s\")\n",
    "\n",
    "print(\"XGBoost conf matrix: \")\n",
    "print(confusion_matrix(y_test2, y_pred_gbt2))\n",
    "\n",
    "y_pred_proba2 = clf.predict_proba(X_test2)[:,1]\n",
    "\n",
    "acc_score = accuracy_score(y_test2,y_pred_gbt2)\n",
    "auc_score = roc_auc_score(y_test2,y_pred_proba2)\n",
    "print(\"Accuracy: {}\\n AUC_ROC: {}\\n\".format(acc_score,auc_score))\n",
    "\n",
    "# Highly Imalanced Dataset\n",
    "\n",
    "print(\"Highly Imbalanced Dataset\")\n",
    "grid_search.fit(X_train3, y_train3)\n",
    "print(grid_search.best_params_)\n",
    "clf.set_params(**grid_search.best_params_)\n",
    "\n",
    "t0 = time()\n",
    "clf.fit(X_train3, y_train3)\n",
    "print(\"training time\", round(time()-t0, 3), \"s\")\n",
    "\n",
    "t0 = time()\n",
    "y_pred_gbt3 = clf.predict(X_test3)\n",
    "print(\"predict time\", round(time()-t0, 3), \"s\")\n",
    "\n",
    "print(\"XGBoost conf matrix: \")\n",
    "print(confusion_matrix(y_test3, y_pred_gbt3))\n",
    "\n",
    "y_pred_proba3 = clf.predict_proba(X_test3)[:,1]\n",
    "\n",
    "acc_score = accuracy_score(y_test3,y_pred_gbt3)\n",
    "auc_score = roc_auc_score(y_test3,y_pred_proba3)\n",
    "print(\"Accuracy: {}\\n AUC_ROC: {}\\n\".format(acc_score,auc_score))"
   ]
  },
  {
   "cell_type": "code",
   "execution_count": 77,
   "metadata": {
    "id": "KHmxgNDIk3xs"
   },
   "outputs": [
    {
     "data": {
      "image/png": "[encoded data removed]",
      "text/plain": [
       "<Figure size 432x288 with 1 Axes>"
      ]
     },
     "metadata": {
      "needs_background": "light"
     },
     "output_type": "display_data"
    }
   ],
   "source": [
    "from sklearn.calibration import calibration_curve\n",
    "import matplotlib.pyplot as plt\n",
    "\n",
    "#Plot all calibration curves for strategy = 'uniform' (It is uniform by default)\n",
    "\n",
    "#Balanced Dataset\n",
    "prob_true_1, prob_pred_1 = calibration_curve(y_test1, y_pred_proba1, strategy='uniform')\n",
    "\n",
    "#Originally Imbalanced Dataset\n",
    "prob_true_2, prob_pred_2 = calibration_curve(y_test2, y_pred_proba2, strategy='uniform')\n",
    "\n",
    "#Highly Imbalanced Dataset\n",
    "prob_true_3, prob_pred_3 = calibration_curve(y_test3, y_pred_proba3, strategy='uniform')\n",
    "\n",
    "\n",
    "plt.plot(prob_pred_1, prob_true_1, marker = '.', label = 'Balanced Dataset')\n",
    "plt.plot(prob_pred_2, prob_true_2, marker = '.', label = 'Originally Imbalanced Dataset')\n",
    "plt.plot(prob_pred_3, prob_true_3, marker = '.', label = 'Highly Imbalanced Dataset')\n",
    "\n",
    "#Perfect calibration\n",
    "plt.plot([0, 1], [0, 1], linestyle = '--', label = 'Ideally Calibrated')\n",
    "\n",
    "leg = plt.legend(loc = 'upper left')\n",
    "plt.xlabel('Average Predicted Probability in each bin')\n",
    "plt.ylabel('Ratio of positives')\n",
    "plt.title('Uniform Strategy')\n",
    "plt.show()"
   ]
  },
  {
   "cell_type": "code",
   "execution_count": 76,
   "metadata": {
    "id": "03dktaNFxCFP"
   },
   "outputs": [
    {
     "data": {
      "image/png": "[encoded data removed]",
      "text/plain": [
       "<Figure size 432x288 with 1 Axes>"
      ]
     },
     "metadata": {
      "needs_background": "light"
     },
     "output_type": "display_data"
    }
   ],
   "source": [
    "#Plot all calibration curves for strategy = 'quantile'\n",
    "\n",
    "#Balanced Dataset\n",
    "prob_true_1, prob_pred_1 = calibration_curve(y_test1, y_pred_proba1, strategy='quantile')\n",
    "\n",
    "#Originally Imbalanced Dataset\n",
    "prob_true_2, prob_pred_2 = calibration_curve(y_test2, y_pred_proba2, strategy='quantile')\n",
    "\n",
    "#Highly Imbalanced Dataset\n",
    "prob_true_3, prob_pred_3 = calibration_curve(y_test3, y_pred_proba3, strategy='quantile')\n",
    "\n",
    "\n",
    "plt.plot(prob_pred_1, prob_true_1, marker = '.', label = 'Balanced Dataset')\n",
    "plt.plot(prob_pred_2, prob_true_2, marker = '.', label = 'Originally Imbalanced Dataset')\n",
    "plt.plot(prob_pred_3, prob_true_3, marker = '.', label = 'Highly Imbalanced Dataset')\n",
    "\n",
    "#Perfect calibration\n",
    "plt.plot([0, 1], [0, 1], linestyle = '--', label = 'Ideally Calibrated')\n",
    "\n",
    "\n",
    "leg = plt.legend(loc = 'upper left')\n",
    "plt.xlabel('Average Predicted Probability in each bin')\n",
    "plt.ylabel('Ratio of positives')\n",
    "plt.title('Quantile Strategy')\n",
    "\n",
    "plt.show()"
   ]
  },
  {
   "cell_type": "markdown",
   "metadata": {},
   "source": [
    "1) XG Boost on the balanced dataset is fitting the most calibrated model. This can be observed in both the binning strategies as the blue line is closest to the red dotted line (ideal i.e. y=x)  \n",
    "\n",
    "2) In general, quintile strategy is better as it gives a better idea of probability distribution. It is more informative for imbalanced datasets because each bin gets equal number of samples and we get a better idea about calibration of the model. \n",
    "\n",
    "3) Where as in the case of imbalanced datasets that have low positive class samples, uniform binning will result in less positive samples in bins with higher mean predicted probability. \n",
    "\n",
    "4) On a side note though, as seen in the above 2 plots, uniform strategy is more readable in case of balanced datasets"
   ]
  },
  {
   "cell_type": "markdown",
   "metadata": {
    "id": "ss00Jw5KkJdR"
   },
   "source": [
    "#Question 4: Deep Learning Mechanisms [5 points]\n",
    "\n",
    "Briefly explain the motivation behind the following mechanisms commonly used in deep learning: <br>\n",
    "a) **[2.5 pts]** Skip connections <br>\n",
    "b) **[2.5 pts]** Batch normalization"
   ]
  },
  {
   "cell_type": "markdown",
   "metadata": {
    "id": "BM-3J85Ew9oA"
   },
   "source": [
    "#Answer:"
   ]
  },
  {
   "cell_type": "markdown",
   "metadata": {
    "id": "lzw5bMvVw_Sa"
   },
   "source": [
    "Question 4 Part (A) "
   ]
  },
  {
   "cell_type": "markdown",
   "metadata": {},
   "source": [
    "Skip connections is an improvement over traditional backpropogation. The backpropagation algorithm works by computing the gradient of the loss function with respect to each weight by the chain rule, computing the gradient one layer at a time, iterating backward from the last layer to earlier layers, the gradient grdually beocmes smaller at each step and inadvertently might also become 0. If the weights of the earlier layers becomes 0 then the earlier layers' weights don't get updated usually called a \"vanishing gradient\".\n",
    "\n",
    "In the skip connection algorithm, some layers in the network are skipped providing a different route for the gradient. This results in a smoother and faster model as convergence is quicker. They also ensure interrupted gradient flow from first layer to last layer and alsi ensure feature reusability. There are 2 methods through skip connections can be achieved - \n",
    "\n",
    "1) Via Addition (ResNet) - The gradeint is preserved by back propogating by using an identity function and vector addition\n",
    "2) Via concatentation (DenseNet) - The fetaures are concatenated to preserve and ensure maximum onformation flow between layers. This assists in reusing features from earlier layers."
   ]
  },
  {
   "cell_type": "markdown",
   "metadata": {},
   "source": [
    "Question 4 Part (B)"
   ]
  },
  {
   "cell_type": "markdown",
   "metadata": {},
   "source": [
    "Deep neural networks with many layers are difficult to train as they can be sensitive to the initial random weights and configuration of the learning algorithm.\n",
    "\n",
    "This might be happening due to the distribution of the inputs to layers deep in the network, which may change after each mini-batch when the weights are updated. This can cause the learning algorithm to forever chase a moving target. This change in the distribution of inputs to layers in the network is referred to “internal covariate shift.”\n",
    "\n",
    "Batch normalization is a method to train very deep neural networks that standardizes the inputs to a layer for each mini-batch based on the mini-batch statistics. This has the effect of stabilizing the learning process and dramatically reducing the number of training epochs required to train deep networks, helping the model to coverge faster."
   ]
  },
  {
   "cell_type": "code",
   "execution_count": null,
   "metadata": {},
   "outputs": [],
   "source": []
  }
 ],
 "metadata": {
  "colab": {
   "collapsed_sections": [],
   "provenance": []
  },
  "kernelspec": {
   "display_name": "Python 3 (ipykernel)",
   "language": "python",
   "name": "python3"
  },
  "language_info": {
   "codemirror_mode": {
    "name": "ipython",
    "version": 3
   },
   "file_extension": ".py",
   "mimetype": "text/x-python",
   "name": "python",
   "nbconvert_exporter": "python",
   "pygments_lexer": "ipython3",
   "version": "3.9.12"
  }
 },
 "nbformat": 4,
 "nbformat_minor": 1
}
